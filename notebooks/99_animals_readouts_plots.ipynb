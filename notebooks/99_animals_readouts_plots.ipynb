{
 "cells": [
  {
   "cell_type": "code",
   "execution_count": 1,
   "id": "d042edc4-892c-4e16-b202-bb1ca9bdf1a8",
   "metadata": {
    "vscode": {
     "languageId": "r"
    }
   },
   "outputs": [],
   "source": [
    "source(\"/path/to/the/project/02_notebooks/00_setup.r\")"
   ]
  },
  {
   "cell_type": "code",
   "execution_count": 18,
   "id": "5d4ac94b-c461-4d99-a8a9-58951d1e940c",
   "metadata": {
    "vscode": {
     "languageId": "r"
    }
   },
   "outputs": [
    {
     "name": "stderr",
     "output_type": "stream",
     "text": [
      "Warning message in p_load(\"ggplot2\", \"dplyr\", \"ggpubr\", \"ggbreak\", \"gee\", \"ggeffects\", :\n",
      "\"Failed to install/load:\n",
      "gee, ggeffects\"\n"
     ]
    }
   ],
   "source": [
    "p_load(\"ggplot2\", \"dplyr\", \"ggpubr\", \"ggbreak\", \"gee\", \"ggeffects\", install = FALSE)"
   ]
  },
  {
   "cell_type": "code",
   "execution_count": 3,
   "id": "8727fcc3-603c-4f68-aa48-e4bd8b2e13d2",
   "metadata": {
    "vscode": {
     "languageId": "r"
    }
   },
   "outputs": [],
   "source": [
    "metadata <- read.csv(\"2022_08_12_CDL_regression_sample_annotation.csv\", row.names = 1)"
   ]
  },
  {
   "cell_type": "code",
   "execution_count": 4,
   "id": "b9f35ade",
   "metadata": {
    "vscode": {
     "languageId": "r"
    }
   },
   "outputs": [],
   "source": [
    "ggplotRegression_ccl4 <- function (fit) {\n",
    "ggplot(fit$model, aes_string(x = names(fit$model)[2], y = names(fit$model)[1], color = names(fit$model)[2])) + \n",
    "  geom_point(shape = 16, size = 5, alpha = 0.8, show.legend = FALSE) +\n",
    "  stat_smooth(method = \"lm\", col = \"#5e2dbb\") +\n",
    "  labs(title = paste(\"Adj R2 = \",signif(summary(fit)$adj.r.squared, 5),\n",
    "                     \"Intercept =\",signif(fit$coef[[1]],5 ),\n",
    "                     \" Slope =\",signif(fit$coef[[2]], 5),\n",
    "                     \" P =\",signif(summary(fit)$coef[2,4], 5))) +\n",
    "                     theme_minimal() +\n",
    "  scale_color_gradient(low = \"#708090\", high = \"#063852\")\n",
    "}\n",
    "\n",
    "ggplotRegression_taa <- function (fit) {\n",
    "ggplot(fit$model, aes_string(x = names(fit$model)[2], y = names(fit$model)[1], color = names(fit$model)[2])) + \n",
    "  geom_point(shape = 16, size = 5, alpha = 0.8, show.legend = FALSE) +\n",
    "  stat_smooth(method = \"lm\", col = \"#5e2dbb\") +\n",
    "  labs(title = paste(\"Adj R2 = \",signif(summary(fit)$adj.r.squared, 5),\n",
    "                     \"Intercept =\",signif(fit$coef[[1]],5 ),\n",
    "                     \" Slope =\",signif(fit$coef[[2]], 5),\n",
    "                     \" P =\",signif(summary(fit)$coef[2,4], 5))) +\n",
    "                     theme_minimal() +\n",
    "  scale_color_gradient(low = \"#708090\", high = \"#F0810F\")\n",
    "}"
   ]
  },
  {
   "cell_type": "markdown",
   "id": "a12a97fd-fb71-4e2e-be23-53f957b1b128",
   "metadata": {},
   "source": [
    "## Plots"
   ]
  },
  {
   "cell_type": "code",
   "execution_count": 5,
   "id": "ea6ce6e7-6d7f-490d-8876-e58f27661bb3",
   "metadata": {
    "vscode": {
     "languageId": "r"
    }
   },
   "outputs": [],
   "source": [
    "metadata$PP <- as.numeric(metadata$PP)\n",
    "metadata$CPA <- as.numeric(metadata$CPA)\n",
    "metadata$ALT <- as.numeric(metadata$ALT)\n",
    "metadata$AST <- as.numeric(metadata$AST)"
   ]
  },
  {
   "cell_type": "code",
   "execution_count": 6,
   "id": "6b01a157-6d0c-4acb-a7bd-96baf9a25a08",
   "metadata": {
    "vscode": {
     "languageId": "r"
    }
   },
   "outputs": [],
   "source": [
    "metadata$Group <- metadata$Group %>% forcats::fct_relevel(\"Cneg\", \"Cpos\", \"R1\", \"R2\")"
   ]
  },
  {
   "cell_type": "code",
   "execution_count": 7,
   "id": "a3de3137-c489-4889-94d6-11bfdfe5046b",
   "metadata": {
    "vscode": {
     "languageId": "r"
    }
   },
   "outputs": [],
   "source": [
    "group_cols <- c(\"#dc97b3\", \"#da4370\", \"#57b09c\", \"#55dfa7\")"
   ]
  },
  {
   "cell_type": "code",
   "execution_count": 8,
   "id": "619c8f0b-e195-4841-b2a5-a95c611db1ba",
   "metadata": {
    "vscode": {
     "languageId": "r"
    }
   },
   "outputs": [],
   "source": [
    "group_comparisons <- list(c(\"CCL4_Cneg\", \"TAA_Cneg\"), \n",
    "                        c(\"CCL4_Cpos\", \"TAA_Cpos\"), \n",
    "                        c(\"CCL4_R1\", \"TAA_R1\"),\n",
    "                        c(\"CCL4_R2\", \"TAA_R2\"))"
   ]
  },
  {
   "cell_type": "code",
   "execution_count": 10,
   "id": "62908865",
   "metadata": {
    "vscode": {
     "languageId": "r"
    }
   },
   "outputs": [],
   "source": [
    "# stat.test <- metadata %>%\n",
    "#   group_by(Group, Model) %>%\n",
    "#   t_test(len ~ supp) %>%\n",
    "#   adjust_pvalue() %>%\n",
    "#   mutate(y.position = 35)\n",
    "# stat.test"
   ]
  },
  {
   "cell_type": "code",
   "execution_count": 11,
   "id": "55c6ffbd",
   "metadata": {
    "vscode": {
     "languageId": "r"
    }
   },
   "outputs": [
    {
     "data": {
      "text/html": [
       "<table class=\"dataframe\">\n",
       "<caption>A data.frame: 8 × 6</caption>\n",
       "<thead>\n",
       "\t<tr><th scope=col>Group</th><th scope=col>Model</th><th scope=col>mean</th><th scope=col>sd</th><th scope=col>se</th><th scope=col>merged</th></tr>\n",
       "\t<tr><th scope=col>&lt;fct&gt;</th><th scope=col>&lt;chr&gt;</th><th scope=col>&lt;dbl&gt;</th><th scope=col>&lt;dbl&gt;</th><th scope=col>&lt;dbl&gt;</th><th scope=col>&lt;chr&gt;</th></tr>\n",
       "</thead>\n",
       "<tbody>\n",
       "\t<tr><td>Cneg</td><td>CCL4</td><td> 5.010000</td><td>0.4632926</td><td>0.1637987</td><td>CCL4_Cneg</td></tr>\n",
       "\t<tr><td>Cneg</td><td>TAA </td><td> 5.466667</td><td>0.4778563</td><td>0.1689477</td><td>TAA_Cneg </td></tr>\n",
       "\t<tr><td>Cpos</td><td>CCL4</td><td>10.478333</td><td>0.8472406</td><td>0.2995448</td><td>CCL4_Cpos</td></tr>\n",
       "\t<tr><td>Cpos</td><td>TAA </td><td> 7.571667</td><td>0.5810479</td><td>0.2054315</td><td>TAA_Cpos </td></tr>\n",
       "\t<tr><td>R1  </td><td>CCL4</td><td> 8.320000</td><td>0.8588830</td><td>0.3036610</td><td>CCL4_R1  </td></tr>\n",
       "\t<tr><td>R1  </td><td>TAA </td><td> 7.246667</td><td>0.5066228</td><td>0.1791182</td><td>TAA_R1   </td></tr>\n",
       "\t<tr><td>R2  </td><td>CCL4</td><td> 8.251667</td><td>0.6976938</td><td>0.2466720</td><td>CCL4_R2  </td></tr>\n",
       "\t<tr><td>R2  </td><td>TAA </td><td> 5.998333</td><td>0.5948585</td><td>0.2103142</td><td>TAA_R2   </td></tr>\n",
       "</tbody>\n",
       "</table>\n"
      ],
      "text/latex": [
       "A data.frame: 8 × 6\n",
       "\\begin{tabular}{llllll}\n",
       " Group & Model & mean & sd & se & merged\\\\\n",
       " <fct> & <chr> & <dbl> & <dbl> & <dbl> & <chr>\\\\\n",
       "\\hline\n",
       "\t Cneg & CCL4 &  5.010000 & 0.4632926 & 0.1637987 & CCL4\\_Cneg\\\\\n",
       "\t Cneg & TAA  &  5.466667 & 0.4778563 & 0.1689477 & TAA\\_Cneg \\\\\n",
       "\t Cpos & CCL4 & 10.478333 & 0.8472406 & 0.2995448 & CCL4\\_Cpos\\\\\n",
       "\t Cpos & TAA  &  7.571667 & 0.5810479 & 0.2054315 & TAA\\_Cpos \\\\\n",
       "\t R1   & CCL4 &  8.320000 & 0.8588830 & 0.3036610 & CCL4\\_R1  \\\\\n",
       "\t R1   & TAA  &  7.246667 & 0.5066228 & 0.1791182 & TAA\\_R1   \\\\\n",
       "\t R2   & CCL4 &  8.251667 & 0.6976938 & 0.2466720 & CCL4\\_R2  \\\\\n",
       "\t R2   & TAA  &  5.998333 & 0.5948585 & 0.2103142 & TAA\\_R2   \\\\\n",
       "\\end{tabular}\n"
      ],
      "text/markdown": [
       "\n",
       "A data.frame: 8 × 6\n",
       "\n",
       "| Group &lt;fct&gt; | Model &lt;chr&gt; | mean &lt;dbl&gt; | sd &lt;dbl&gt; | se &lt;dbl&gt; | merged &lt;chr&gt; |\n",
       "|---|---|---|---|---|---|\n",
       "| Cneg | CCL4 |  5.010000 | 0.4632926 | 0.1637987 | CCL4_Cneg |\n",
       "| Cneg | TAA  |  5.466667 | 0.4778563 | 0.1689477 | TAA_Cneg  |\n",
       "| Cpos | CCL4 | 10.478333 | 0.8472406 | 0.2995448 | CCL4_Cpos |\n",
       "| Cpos | TAA  |  7.571667 | 0.5810479 | 0.2054315 | TAA_Cpos  |\n",
       "| R1   | CCL4 |  8.320000 | 0.8588830 | 0.3036610 | CCL4_R1   |\n",
       "| R1   | TAA  |  7.246667 | 0.5066228 | 0.1791182 | TAA_R1    |\n",
       "| R2   | CCL4 |  8.251667 | 0.6976938 | 0.2466720 | CCL4_R2   |\n",
       "| R2   | TAA  |  5.998333 | 0.5948585 | 0.2103142 | TAA_R2    |\n",
       "\n"
      ],
      "text/plain": [
       "  Group Model mean      sd        se        merged   \n",
       "1 Cneg  CCL4   5.010000 0.4632926 0.1637987 CCL4_Cneg\n",
       "2 Cneg  TAA    5.466667 0.4778563 0.1689477 TAA_Cneg \n",
       "3 Cpos  CCL4  10.478333 0.8472406 0.2995448 CCL4_Cpos\n",
       "4 Cpos  TAA    7.571667 0.5810479 0.2054315 TAA_Cpos \n",
       "5 R1    CCL4   8.320000 0.8588830 0.3036610 CCL4_R1  \n",
       "6 R1    TAA    7.246667 0.5066228 0.1791182 TAA_R1   \n",
       "7 R2    CCL4   8.251667 0.6976938 0.2466720 CCL4_R2  \n",
       "8 R2    TAA    5.998333 0.5948585 0.2103142 TAA_R2   "
      ]
     },
     "metadata": {},
     "output_type": "display_data"
    }
   ],
   "source": [
    "pp_data <- metadata %>%                           # Get mean & standard deviation by group\n",
    "  group_by(Group, Model) %>%\n",
    "  summarise_at(vars(PP),\n",
    "               list(mean = mean,\n",
    "                    sd = sd)) %>% \n",
    "  as.data.frame() %>%\n",
    "  mutate(se = sd / sqrt(nrow(.)))\n",
    "pp_data$merged <- paste0(pp_data$Model, \"_\", pp_data$Group)\n",
    "pp_data"
   ]
  },
  {
   "cell_type": "code",
   "execution_count": 10,
   "id": "e52d8945",
   "metadata": {
    "vscode": {
     "languageId": "r"
    }
   },
   "outputs": [
    {
     "data": {
      "text/html": [
       "<table class=\"dataframe\">\n",
       "<caption>A data.frame: 8 × 6</caption>\n",
       "<thead>\n",
       "\t<tr><th scope=col>Group</th><th scope=col>Model</th><th scope=col>mean</th><th scope=col>sd</th><th scope=col>se</th><th scope=col>merged</th></tr>\n",
       "\t<tr><th scope=col>&lt;fct&gt;</th><th scope=col>&lt;chr&gt;</th><th scope=col>&lt;dbl&gt;</th><th scope=col>&lt;dbl&gt;</th><th scope=col>&lt;dbl&gt;</th><th scope=col>&lt;chr&gt;</th></tr>\n",
       "</thead>\n",
       "<tbody>\n",
       "\t<tr><td>Cneg</td><td>CCL4</td><td> 0.9766667</td><td>0.3511505</td><td>0.12415045</td><td>CCL4_Cneg</td></tr>\n",
       "\t<tr><td>Cneg</td><td>TAA </td><td> 0.7750000</td><td>0.1044509</td><td>0.03692899</td><td>TAA_Cneg </td></tr>\n",
       "\t<tr><td>Cpos</td><td>CCL4</td><td>17.3616667</td><td>4.4999974</td><td>1.59098934</td><td>CCL4_Cpos</td></tr>\n",
       "\t<tr><td>Cpos</td><td>TAA </td><td> 4.0000000</td><td>0.3064637</td><td>0.10835128</td><td>TAA_Cpos </td></tr>\n",
       "\t<tr><td>R1  </td><td>CCL4</td><td>11.3750000</td><td>3.0801023</td><td>1.08898060</td><td>CCL4_R1  </td></tr>\n",
       "\t<tr><td>R1  </td><td>TAA </td><td> 3.2216667</td><td>0.4699539</td><td>0.16615379</td><td>TAA_R1   </td></tr>\n",
       "\t<tr><td>R2  </td><td>CCL4</td><td> 5.4116667</td><td>1.5738541</td><td>0.55644145</td><td>CCL4_R2  </td></tr>\n",
       "\t<tr><td>R2  </td><td>TAA </td><td> 2.7766667</td><td>0.2429540</td><td>0.08589723</td><td>TAA_R2   </td></tr>\n",
       "</tbody>\n",
       "</table>\n"
      ],
      "text/latex": [
       "A data.frame: 8 × 6\n",
       "\\begin{tabular}{llllll}\n",
       " Group & Model & mean & sd & se & merged\\\\\n",
       " <fct> & <chr> & <dbl> & <dbl> & <dbl> & <chr>\\\\\n",
       "\\hline\n",
       "\t Cneg & CCL4 &  0.9766667 & 0.3511505 & 0.12415045 & CCL4\\_Cneg\\\\\n",
       "\t Cneg & TAA  &  0.7750000 & 0.1044509 & 0.03692899 & TAA\\_Cneg \\\\\n",
       "\t Cpos & CCL4 & 17.3616667 & 4.4999974 & 1.59098934 & CCL4\\_Cpos\\\\\n",
       "\t Cpos & TAA  &  4.0000000 & 0.3064637 & 0.10835128 & TAA\\_Cpos \\\\\n",
       "\t R1   & CCL4 & 11.3750000 & 3.0801023 & 1.08898060 & CCL4\\_R1  \\\\\n",
       "\t R1   & TAA  &  3.2216667 & 0.4699539 & 0.16615379 & TAA\\_R1   \\\\\n",
       "\t R2   & CCL4 &  5.4116667 & 1.5738541 & 0.55644145 & CCL4\\_R2  \\\\\n",
       "\t R2   & TAA  &  2.7766667 & 0.2429540 & 0.08589723 & TAA\\_R2   \\\\\n",
       "\\end{tabular}\n"
      ],
      "text/markdown": [
       "\n",
       "A data.frame: 8 × 6\n",
       "\n",
       "| Group &lt;fct&gt; | Model &lt;chr&gt; | mean &lt;dbl&gt; | sd &lt;dbl&gt; | se &lt;dbl&gt; | merged &lt;chr&gt; |\n",
       "|---|---|---|---|---|---|\n",
       "| Cneg | CCL4 |  0.9766667 | 0.3511505 | 0.12415045 | CCL4_Cneg |\n",
       "| Cneg | TAA  |  0.7750000 | 0.1044509 | 0.03692899 | TAA_Cneg  |\n",
       "| Cpos | CCL4 | 17.3616667 | 4.4999974 | 1.59098934 | CCL4_Cpos |\n",
       "| Cpos | TAA  |  4.0000000 | 0.3064637 | 0.10835128 | TAA_Cpos  |\n",
       "| R1   | CCL4 | 11.3750000 | 3.0801023 | 1.08898060 | CCL4_R1   |\n",
       "| R1   | TAA  |  3.2216667 | 0.4699539 | 0.16615379 | TAA_R1    |\n",
       "| R2   | CCL4 |  5.4116667 | 1.5738541 | 0.55644145 | CCL4_R2   |\n",
       "| R2   | TAA  |  2.7766667 | 0.2429540 | 0.08589723 | TAA_R2    |\n",
       "\n"
      ],
      "text/plain": [
       "  Group Model mean       sd        se         merged   \n",
       "1 Cneg  CCL4   0.9766667 0.3511505 0.12415045 CCL4_Cneg\n",
       "2 Cneg  TAA    0.7750000 0.1044509 0.03692899 TAA_Cneg \n",
       "3 Cpos  CCL4  17.3616667 4.4999974 1.59098934 CCL4_Cpos\n",
       "4 Cpos  TAA    4.0000000 0.3064637 0.10835128 TAA_Cpos \n",
       "5 R1    CCL4  11.3750000 3.0801023 1.08898060 CCL4_R1  \n",
       "6 R1    TAA    3.2216667 0.4699539 0.16615379 TAA_R1   \n",
       "7 R2    CCL4   5.4116667 1.5738541 0.55644145 CCL4_R2  \n",
       "8 R2    TAA    2.7766667 0.2429540 0.08589723 TAA_R2   "
      ]
     },
     "metadata": {},
     "output_type": "display_data"
    }
   ],
   "source": [
    "cpa_data <- metadata %>%                           # Get mean & standard deviation by group\n",
    "  group_by(Group, Model) %>%\n",
    "  summarise_at(vars(CPA),\n",
    "               list(mean = mean,\n",
    "                    sd = sd)) %>% \n",
    "  as.data.frame() %>%\n",
    "  mutate(se = sd / sqrt(nrow(.)))\n",
    "cpa_data$merged <- paste0(cpa_data$Model, \"_\", cpa_data$Group)\n",
    "cpa_data"
   ]
  },
  {
   "cell_type": "code",
   "execution_count": 12,
   "id": "dc7b9d91",
   "metadata": {
    "vscode": {
     "languageId": "r"
    }
   },
   "outputs": [
    {
     "data": {
      "text/html": [
       "<table class=\"dataframe\">\n",
       "<caption>A data.frame: 8 × 6</caption>\n",
       "<thead>\n",
       "\t<tr><th scope=col>Group</th><th scope=col>Model</th><th scope=col>mean</th><th scope=col>sd</th><th scope=col>se</th><th scope=col>merged</th></tr>\n",
       "\t<tr><th scope=col>&lt;fct&gt;</th><th scope=col>&lt;chr&gt;</th><th scope=col>&lt;dbl&gt;</th><th scope=col>&lt;dbl&gt;</th><th scope=col>&lt;dbl&gt;</th><th scope=col>&lt;chr&gt;</th></tr>\n",
       "</thead>\n",
       "<tbody>\n",
       "\t<tr><td>Cneg</td><td>CCL4</td><td>  19.333333</td><td>   8.547904</td><td>  3.0221405</td><td>CCL4_Cneg</td></tr>\n",
       "\t<tr><td>Cneg</td><td>TAA </td><td>   3.833333</td><td>   1.169045</td><td>  0.4133199</td><td>TAA_Cneg </td></tr>\n",
       "\t<tr><td>Cpos</td><td>CCL4</td><td>3764.666667</td><td>2764.533571</td><td>977.4102175</td><td>CCL4_Cpos</td></tr>\n",
       "\t<tr><td>Cpos</td><td>TAA </td><td>  47.166667</td><td>  11.856081</td><td>  4.1917578</td><td>TAA_Cpos </td></tr>\n",
       "\t<tr><td>R1  </td><td>CCL4</td><td>  34.666667</td><td>   3.265986</td><td>  1.1547005</td><td>CCL4_R1  </td></tr>\n",
       "\t<tr><td>R1  </td><td>TAA </td><td>  12.000000</td><td>   6.260990</td><td>  2.2135944</td><td>TAA_R1   </td></tr>\n",
       "\t<tr><td>R2  </td><td>CCL4</td><td>  35.333333</td><td>   4.676181</td><td>  1.6532796</td><td>CCL4_R2  </td></tr>\n",
       "\t<tr><td>R2  </td><td>TAA </td><td>   5.000000</td><td>   1.788854</td><td>  0.6324555</td><td>TAA_R2   </td></tr>\n",
       "</tbody>\n",
       "</table>\n"
      ],
      "text/latex": [
       "A data.frame: 8 × 6\n",
       "\\begin{tabular}{llllll}\n",
       " Group & Model & mean & sd & se & merged\\\\\n",
       " <fct> & <chr> & <dbl> & <dbl> & <dbl> & <chr>\\\\\n",
       "\\hline\n",
       "\t Cneg & CCL4 &   19.333333 &    8.547904 &   3.0221405 & CCL4\\_Cneg\\\\\n",
       "\t Cneg & TAA  &    3.833333 &    1.169045 &   0.4133199 & TAA\\_Cneg \\\\\n",
       "\t Cpos & CCL4 & 3764.666667 & 2764.533571 & 977.4102175 & CCL4\\_Cpos\\\\\n",
       "\t Cpos & TAA  &   47.166667 &   11.856081 &   4.1917578 & TAA\\_Cpos \\\\\n",
       "\t R1   & CCL4 &   34.666667 &    3.265986 &   1.1547005 & CCL4\\_R1  \\\\\n",
       "\t R1   & TAA  &   12.000000 &    6.260990 &   2.2135944 & TAA\\_R1   \\\\\n",
       "\t R2   & CCL4 &   35.333333 &    4.676181 &   1.6532796 & CCL4\\_R2  \\\\\n",
       "\t R2   & TAA  &    5.000000 &    1.788854 &   0.6324555 & TAA\\_R2   \\\\\n",
       "\\end{tabular}\n"
      ],
      "text/markdown": [
       "\n",
       "A data.frame: 8 × 6\n",
       "\n",
       "| Group &lt;fct&gt; | Model &lt;chr&gt; | mean &lt;dbl&gt; | sd &lt;dbl&gt; | se &lt;dbl&gt; | merged &lt;chr&gt; |\n",
       "|---|---|---|---|---|---|\n",
       "| Cneg | CCL4 |   19.333333 |    8.547904 |   3.0221405 | CCL4_Cneg |\n",
       "| Cneg | TAA  |    3.833333 |    1.169045 |   0.4133199 | TAA_Cneg  |\n",
       "| Cpos | CCL4 | 3764.666667 | 2764.533571 | 977.4102175 | CCL4_Cpos |\n",
       "| Cpos | TAA  |   47.166667 |   11.856081 |   4.1917578 | TAA_Cpos  |\n",
       "| R1   | CCL4 |   34.666667 |    3.265986 |   1.1547005 | CCL4_R1   |\n",
       "| R1   | TAA  |   12.000000 |    6.260990 |   2.2135944 | TAA_R1    |\n",
       "| R2   | CCL4 |   35.333333 |    4.676181 |   1.6532796 | CCL4_R2   |\n",
       "| R2   | TAA  |    5.000000 |    1.788854 |   0.6324555 | TAA_R2    |\n",
       "\n"
      ],
      "text/plain": [
       "  Group Model mean        sd          se          merged   \n",
       "1 Cneg  CCL4    19.333333    8.547904   3.0221405 CCL4_Cneg\n",
       "2 Cneg  TAA      3.833333    1.169045   0.4133199 TAA_Cneg \n",
       "3 Cpos  CCL4  3764.666667 2764.533571 977.4102175 CCL4_Cpos\n",
       "4 Cpos  TAA     47.166667   11.856081   4.1917578 TAA_Cpos \n",
       "5 R1    CCL4    34.666667    3.265986   1.1547005 CCL4_R1  \n",
       "6 R1    TAA     12.000000    6.260990   2.2135944 TAA_R1   \n",
       "7 R2    CCL4    35.333333    4.676181   1.6532796 CCL4_R2  \n",
       "8 R2    TAA      5.000000    1.788854   0.6324555 TAA_R2   "
      ]
     },
     "metadata": {},
     "output_type": "display_data"
    }
   ],
   "source": [
    "alt_data <- metadata %>%                           # Get mean & standard deviation by group\n",
    "  group_by(Group, Model) %>%\n",
    "  summarise_at(vars(ALT),\n",
    "               list(mean = mean,\n",
    "                    sd = sd)) %>% \n",
    "  as.data.frame() %>%\n",
    "  mutate(se = sd / sqrt(nrow(.)))\n",
    "alt_data$merged <- paste0(alt_data$Model, \"_\", alt_data$Group)\n",
    "alt_data"
   ]
  },
  {
   "cell_type": "code",
   "execution_count": 13,
   "id": "d9ae09d2",
   "metadata": {
    "vscode": {
     "languageId": "r"
    }
   },
   "outputs": [
    {
     "data": {
      "text/html": [
       "<table class=\"dataframe\">\n",
       "<caption>A data.frame: 8 × 6</caption>\n",
       "<thead>\n",
       "\t<tr><th scope=col>Group</th><th scope=col>Model</th><th scope=col>mean</th><th scope=col>sd</th><th scope=col>se</th><th scope=col>merged</th></tr>\n",
       "\t<tr><th scope=col>&lt;fct&gt;</th><th scope=col>&lt;chr&gt;</th><th scope=col>&lt;dbl&gt;</th><th scope=col>&lt;dbl&gt;</th><th scope=col>&lt;dbl&gt;</th><th scope=col>&lt;chr&gt;</th></tr>\n",
       "</thead>\n",
       "<tbody>\n",
       "\t<tr><td>Cneg</td><td>CCL4</td><td>  44.666667</td><td>  16.669333</td><td>  5.8934992</td><td>CCL4_Cneg</td></tr>\n",
       "\t<tr><td>Cneg</td><td>TAA </td><td>   9.166667</td><td>   3.188521</td><td>  1.1273124</td><td>TAA_Cneg </td></tr>\n",
       "\t<tr><td>Cpos</td><td>CCL4</td><td>3130.000000</td><td>2612.943474</td><td>923.8150248</td><td>CCL4_Cpos</td></tr>\n",
       "\t<tr><td>Cpos</td><td>TAA </td><td>  32.833333</td><td>   6.306082</td><td>  2.2295366</td><td>TAA_Cpos </td></tr>\n",
       "\t<tr><td>R1  </td><td>CCL4</td><td>  72.666667</td><td>  33.696686</td><td> 11.9135777</td><td>CCL4_R1  </td></tr>\n",
       "\t<tr><td>R1  </td><td>TAA </td><td>  11.666667</td><td>   2.943920</td><td>  1.0408330</td><td>TAA_R1   </td></tr>\n",
       "\t<tr><td>R2  </td><td>CCL4</td><td>  53.333333</td><td>   6.022181</td><td>  2.1291626</td><td>CCL4_R2  </td></tr>\n",
       "\t<tr><td>R2  </td><td>TAA </td><td>   9.333333</td><td>   1.032796</td><td>  0.3651484</td><td>TAA_R2   </td></tr>\n",
       "</tbody>\n",
       "</table>\n"
      ],
      "text/latex": [
       "A data.frame: 8 × 6\n",
       "\\begin{tabular}{llllll}\n",
       " Group & Model & mean & sd & se & merged\\\\\n",
       " <fct> & <chr> & <dbl> & <dbl> & <dbl> & <chr>\\\\\n",
       "\\hline\n",
       "\t Cneg & CCL4 &   44.666667 &   16.669333 &   5.8934992 & CCL4\\_Cneg\\\\\n",
       "\t Cneg & TAA  &    9.166667 &    3.188521 &   1.1273124 & TAA\\_Cneg \\\\\n",
       "\t Cpos & CCL4 & 3130.000000 & 2612.943474 & 923.8150248 & CCL4\\_Cpos\\\\\n",
       "\t Cpos & TAA  &   32.833333 &    6.306082 &   2.2295366 & TAA\\_Cpos \\\\\n",
       "\t R1   & CCL4 &   72.666667 &   33.696686 &  11.9135777 & CCL4\\_R1  \\\\\n",
       "\t R1   & TAA  &   11.666667 &    2.943920 &   1.0408330 & TAA\\_R1   \\\\\n",
       "\t R2   & CCL4 &   53.333333 &    6.022181 &   2.1291626 & CCL4\\_R2  \\\\\n",
       "\t R2   & TAA  &    9.333333 &    1.032796 &   0.3651484 & TAA\\_R2   \\\\\n",
       "\\end{tabular}\n"
      ],
      "text/markdown": [
       "\n",
       "A data.frame: 8 × 6\n",
       "\n",
       "| Group &lt;fct&gt; | Model &lt;chr&gt; | mean &lt;dbl&gt; | sd &lt;dbl&gt; | se &lt;dbl&gt; | merged &lt;chr&gt; |\n",
       "|---|---|---|---|---|---|\n",
       "| Cneg | CCL4 |   44.666667 |   16.669333 |   5.8934992 | CCL4_Cneg |\n",
       "| Cneg | TAA  |    9.166667 |    3.188521 |   1.1273124 | TAA_Cneg  |\n",
       "| Cpos | CCL4 | 3130.000000 | 2612.943474 | 923.8150248 | CCL4_Cpos |\n",
       "| Cpos | TAA  |   32.833333 |    6.306082 |   2.2295366 | TAA_Cpos  |\n",
       "| R1   | CCL4 |   72.666667 |   33.696686 |  11.9135777 | CCL4_R1   |\n",
       "| R1   | TAA  |   11.666667 |    2.943920 |   1.0408330 | TAA_R1    |\n",
       "| R2   | CCL4 |   53.333333 |    6.022181 |   2.1291626 | CCL4_R2   |\n",
       "| R2   | TAA  |    9.333333 |    1.032796 |   0.3651484 | TAA_R2    |\n",
       "\n"
      ],
      "text/plain": [
       "  Group Model mean        sd          se          merged   \n",
       "1 Cneg  CCL4    44.666667   16.669333   5.8934992 CCL4_Cneg\n",
       "2 Cneg  TAA      9.166667    3.188521   1.1273124 TAA_Cneg \n",
       "3 Cpos  CCL4  3130.000000 2612.943474 923.8150248 CCL4_Cpos\n",
       "4 Cpos  TAA     32.833333    6.306082   2.2295366 TAA_Cpos \n",
       "5 R1    CCL4    72.666667   33.696686  11.9135777 CCL4_R1  \n",
       "6 R1    TAA     11.666667    2.943920   1.0408330 TAA_R1   \n",
       "7 R2    CCL4    53.333333    6.022181   2.1291626 CCL4_R2  \n",
       "8 R2    TAA      9.333333    1.032796   0.3651484 TAA_R2   "
      ]
     },
     "metadata": {},
     "output_type": "display_data"
    }
   ],
   "source": [
    "ast_data <- metadata %>%                           # Get mean & standard deviation by group\n",
    "  group_by(Group, Model) %>%\n",
    "  summarise_at(vars(AST),\n",
    "               list(mean = mean,\n",
    "                    sd = sd)) %>% \n",
    "  as.data.frame() %>%\n",
    "  mutate(se = sd / sqrt(nrow(.)))\n",
    "ast_data$merged <- paste0(ast_data$Model, \"_\", ast_data$Group)\n",
    "ast_data"
   ]
  },
  {
   "cell_type": "code",
   "execution_count": 14,
   "id": "2a7cc4dd",
   "metadata": {
    "vscode": {
     "languageId": "r"
    }
   },
   "outputs": [],
   "source": [
    "pp_bar <- pp_data %>%\n",
    "  ggplot(aes(x=Group, y=mean, fill=Model)) + \n",
    "  geom_bar(stat='identity', position= \"dodge\") +\n",
    "  geom_errorbar(aes(ymin = mean, ymax=mean+se), position=position_dodge(width=0.9), color = \"#000000\") +\n",
    "  # stat_compare_means(aes(group=merged),method = \"wilcox.test\", label = \"p.signif\") +\n",
    "        # ggpubr::geom_pwc(aes(group = Group), method = \"t.test\") +\n",
    "                       theme(plot.title = element_text(hjust = 0.5, size=7),\n",
    "        axis.text.x = element_text(size=10,angle = 45,hjust=1),\n",
    "        axis.text.y = element_text(size=10),\n",
    "        axis.title.x = element_text(size=10),\n",
    "        axis.title.y = element_text(size=10),\n",
    "        axis.line = element_line(colour = \"black\"),\n",
    "        strip.text.x = element_text(size = 12),\n",
    "        panel.grid.major = element_blank(),\n",
    "        panel.grid.minor = element_blank(),\n",
    "        panel.border = element_blank(),\n",
    "        panel.background = element_blank(),\n",
    "        legend.position = 'none') +\n",
    "        coord_cartesian(ylim = c(4, 12)) +\n",
    "        scale_fill_manual(values = c('#063852', '#F0810F')) +\n",
    "        theme(axis.title.x = element_blank(), axis.text.x=element_blank(), axis.title.y = element_blank())\n"
   ]
  },
  {
   "cell_type": "code",
   "execution_count": 15,
   "id": "8b5dae96",
   "metadata": {
    "vscode": {
     "languageId": "r"
    }
   },
   "outputs": [],
   "source": [
    "cpa_bar <- cpa_data %>%\n",
    "  ggplot(aes(x=Group, y=mean, fill=Model)) + \n",
    "  geom_bar(stat='identity', position= \"dodge\") +\n",
    "  geom_errorbar(aes(ymin = mean, ymax=mean+se), position=position_dodge(width=0.9), color = \"#000000\") +\n",
    "#   stat_compare_means(aes(group=merged),method = \"wilcox.test\", label = \"p.signif\", \n",
    "#                      comparisons = group_comparisons) +\n",
    "        # ggpubr::geom_pwc(aes(group = Group), method = \"t.test\") +\n",
    "                       theme(plot.title = element_text(hjust = 0.5, size=7),\n",
    "        axis.text.x = element_text(size=10,angle = 45,hjust=1),\n",
    "        axis.text.y = element_text(size=10),\n",
    "        axis.title.x = element_text(size=10),\n",
    "        axis.title.y = element_text(size=10),\n",
    "        axis.line = element_line(colour = \"black\"),\n",
    "        strip.text.x = element_text(size = 12),\n",
    "        panel.grid.major = element_blank(),\n",
    "        panel.grid.minor = element_blank(),\n",
    "        panel.border = element_blank(),\n",
    "        panel.background = element_blank(),\n",
    "        legend.position = 'none') +\n",
    "        scale_y_continuous(expand = c(0,0)) +\n",
    "        scale_fill_manual(values = c('#063852', '#F0810F')) +\n",
    "        theme(axis.title.x = element_blank(), axis.text.x=element_blank(), axis.title.y = element_blank())"
   ]
  },
  {
   "cell_type": "code",
   "execution_count": 19,
   "id": "47b47da0",
   "metadata": {
    "vscode": {
     "languageId": "r"
    }
   },
   "outputs": [],
   "source": [
    "alt_bar <- alt_data %>%\n",
    "  ggplot(aes(x=Group, y=mean, fill=Model)) + \n",
    "  geom_bar(stat='identity', position= \"dodge\") +\n",
    "  geom_errorbar(aes(ymin = mean, ymax=mean+se), position=position_dodge(width=0.9), color = \"#000000\") +\n",
    "#   stat_compare_means(aes(group=merged),method = \"wilcox.test\", label = \"p.signif\", \n",
    "#                      comparisons = group_comparisons) +\n",
    "        # ggpubr::geom_pwc(aes(group = Group), method = \"t.test\") +\n",
    "                       theme(plot.title = element_text(hjust = 0.5, size=7),\n",
    "        axis.text.x = element_text(size=10,angle = 45,hjust=1),\n",
    "        axis.text.y = element_text(size=10),\n",
    "        axis.title.x = element_text(size=10),\n",
    "        axis.title.y = element_text(size=10),\n",
    "        axis.line = element_line(colour = \"black\"),\n",
    "        strip.text.x = element_text(size = 12),\n",
    "        panel.grid.major = element_blank(),\n",
    "        panel.grid.minor = element_blank(),\n",
    "        panel.border = element_blank(),\n",
    "        panel.background = element_blank(),\n",
    "        legend.position = 'none') +\n",
    "        scale_y_break(c(60, 3200), scales = 0.75, space = 0.5, expand = c(0,0)) +\n",
    "\n",
    "        scale_fill_manual(values = c('#063852', '#F0810F')) +\n",
    "        theme(axis.title.x = element_blank(), axis.text.x=element_blank(), axis.title.y = element_blank())\n"
   ]
  },
  {
   "cell_type": "code",
   "execution_count": 20,
   "id": "ba201acd-51c9-4040-8cbf-13deea339abb",
   "metadata": {
    "vscode": {
     "languageId": "r"
    }
   },
   "outputs": [],
   "source": [
    "ast_bar <- ast_data %>%\n",
    "  ggplot(aes(x=Group, y=mean, fill=Model)) + \n",
    "  geom_bar(stat='identity', position= \"dodge\") +\n",
    "  geom_errorbar(aes(ymin = mean, ymax=mean+se), position=position_dodge(width=0.9), color = \"#000000\") +\n",
    "#   stat_compare_means(aes(group=merged),method = \"wilcox.test\", label = \"p.signif\", \n",
    "#                      comparisons = group_comparisons) +\n",
    "        # ggpubr::geom_pwc(aes(group = Group), method = \"t.test\") +\n",
    "                       theme(plot.title = element_text(hjust = 0.5, size=7),\n",
    "        axis.text.x = element_text(size=10,angle = 45,hjust=1),\n",
    "        axis.text.y = element_text(size=10),\n",
    "        axis.title.x = element_text(size=10),\n",
    "        axis.title.y = element_text(size=10),\n",
    "        axis.line = element_line(colour = \"black\"),\n",
    "        strip.text.x = element_text(size = 12),\n",
    "        panel.grid.major = element_blank(),\n",
    "        panel.grid.minor = element_blank(),\n",
    "        panel.border = element_blank(),\n",
    "        panel.background = element_blank(),\n",
    "        legend.position = 'none') +\n",
    "        scale_y_break(c(110, 2500), scales = 0.75, space = 0.5, expand = c(0,0)) +\n",
    "\n",
    "        scale_fill_manual(values = c('#063852', '#F0810F')) +\n",
    "        theme(axis.title.x = element_blank(), axis.text.x=element_blank(), axis.title.y = element_blank())\n"
   ]
  },
  {
   "cell_type": "code",
   "execution_count": 21,
   "id": "54ffa71a",
   "metadata": {
    "vscode": {
     "languageId": "r"
    }
   },
   "outputs": [
    {
     "data": {
      "image/png": "[encoded data removed]",
      "text/plain": [
       "plot without title"
      ]
     },
     "metadata": {
      "image/png": {
       "height": 300,
       "width": 900
      }
     },
     "output_type": "display_data"
    }
   ],
   "source": [
    "options(repr.plot.width = 15, repr.plot.height = 5)\n",
    "ggarrange(print(pp_bar), print(cpa_bar), print(alt_bar), print(ast_bar),\n",
    "          ncol = 4, nrow = 1)"
   ]
  },
  {
   "attachments": {},
   "cell_type": "markdown",
   "id": "af9ed244",
   "metadata": {},
   "source": [
    "## Wilcoxon testing"
   ]
  },
  {
   "cell_type": "code",
   "execution_count": 7,
   "id": "d4e3fb4e",
   "metadata": {
    "vscode": {
     "languageId": "r"
    }
   },
   "outputs": [],
   "source": [
    "metadata_ccl4_cneg_pp <- metadata %>% filter(Model == \"CCL4\") %>% filter(Group == \"Cneg\") %>% select(PP)\n",
    "metadata_ccl4_cneg_cpa <- metadata %>% filter(Model == \"CCL4\") %>% filter(Group == \"Cneg\") %>% select(CPA)\n",
    "metadata_ccl4_cneg_alt <- metadata %>% filter(Model == \"CCL4\") %>% filter(Group == \"Cneg\") %>% select(ALT)\n",
    "metadata_ccl4_cneg_ast <- metadata %>% filter(Model == \"CCL4\") %>% filter(Group == \"Cneg\") %>% select(AST)\n",
    "\n",
    "metadata_ccl4_cpos_pp <- metadata %>% filter(Model == \"CCL4\") %>% filter(Group == \"Cpos\") %>% select(PP)\n",
    "metadata_ccl4_cpos_cpa <- metadata %>% filter(Model == \"CCL4\") %>% filter(Group == \"Cpos\") %>% select(CPA)\n",
    "metadata_ccl4_cpos_alt <- metadata %>% filter(Model == \"CCL4\") %>% filter(Group == \"Cpos\") %>% select(ALT)\n",
    "metadata_ccl4_cpos_ast <- metadata %>% filter(Model == \"CCL4\") %>% filter(Group == \"Cpos\") %>% select(AST)\n",
    "\n",
    "metadata_ccl4_r1_pp <- metadata %>% filter(Model == \"CCL4\") %>% filter(Group == \"R1\") %>% select(PP)\n",
    "metadata_ccl4_r1_cpa <- metadata %>% filter(Model == \"CCL4\") %>% filter(Group == \"R1\") %>% select(CPA)\n",
    "metadata_ccl4_r1_alt <- metadata %>% filter(Model == \"CCL4\") %>% filter(Group == \"R1\") %>% select(ALT)\n",
    "metadata_ccl4_r1_ast <- metadata %>% filter(Model == \"CCL4\") %>% filter(Group == \"R1\") %>% select(AST)\n",
    "\n",
    "metadata_ccl4_r2_pp <- metadata %>% filter(Model == \"CCL4\") %>% filter(Group == \"R2\") %>% select(PP)\n",
    "metadata_ccl4_r2_cpa <- metadata %>% filter(Model == \"CCL4\") %>% filter(Group == \"R2\") %>% select(CPA)\n",
    "metadata_ccl4_r2_alt <- metadata %>% filter(Model == \"CCL4\") %>% filter(Group == \"R2\") %>% select(ALT)\n",
    "metadata_ccl4_r2_ast <- metadata %>% filter(Model == \"CCL4\") %>% filter(Group == \"R2\") %>% select(AST)\n",
    "\n",
    "metadata_taa_cneg_pp <- metadata%>%filter(Model==\"TAA\")%>%filter(Group==\"Cneg\")%>%select(PP)\n",
    "metadata_taa_cneg_cpa <-metadata%>%filter(Model==\"TAA\")%>%filter(Group==\"Cneg\")%>%select(CPA)\n",
    "metadata_taa_cneg_alt <-metadata%>%filter(Model==\"TAA\")%>%filter(Group==\"Cneg\")%>%select(ALT)\n",
    "metadata_taa_cneg_ast <-metadata%>%filter(Model==\"TAA\")%>%filter(Group==\"Cneg\")%>%select(AST)\n",
    "\n",
    "metadata_taa_cpos_pp <-metadata%>%filter(Model==\"TAA\")%>%filter(Group==\"Cpos\")%>%select(PP)\n",
    "metadata_taa_cpos_cpa <-metadata%>%filter(Model==\"TAA\")%>%filter(Group==\"Cpos\")%>%select(CPA)\n",
    "metadata_taa_cpos_alt <-metadata%>%filter(Model==\"TAA\")%>%filter(Group==\"Cpos\")%>%select(ALT)\n",
    "metadata_taa_cpos_ast <-metadata%>%filter(Model==\"TAA\")%>%filter(Group==\"Cpos\")%>%select(AST)\n",
    "\n",
    "metadata_taa_r1_pp <- metadata%>%filter(Model==\"TAA\")%>%filter(Group==\"R1\")%>%select(PP)\n",
    "metadata_taa_r1_cpa <-metadata%>%filter(Model==\"TAA\")%>%filter(Group==\"R1\")%>%select(CPA)\n",
    "metadata_taa_r1_alt <-metadata%>%filter(Model==\"TAA\")%>%filter(Group==\"R1\")%>%select(ALT)\n",
    "metadata_taa_r1_ast <-metadata%>%filter(Model==\"TAA\")%>%filter(Group==\"R1\")%>%select(AST)\n",
    "\n",
    "metadata_taa_r2_pp <- metadata%>%filter(Model==\"TAA\")%>%filter(Group==\"R2\")%>%select(PP)\n",
    "metadata_taa_r2_cpa <-metadata%>%filter(Model==\"TAA\")%>%filter(Group==\"R2\")%>%select(CPA)\n",
    "metadata_taa_r2_alt <-metadata%>%filter(Model==\"TAA\")%>%filter(Group==\"R2\")%>%select(ALT)\n",
    "metadata_taa_r2_ast <-metadata%>%filter(Model==\"TAA\")%>%filter(Group==\"R2\")%>%select(AST)"
   ]
  },
  {
   "attachments": {},
   "cell_type": "markdown",
   "id": "a61213fa",
   "metadata": {},
   "source": [
    "### CCL4"
   ]
  },
  {
   "cell_type": "code",
   "execution_count": 9,
   "id": "5bfd8384",
   "metadata": {
    "vscode": {
     "languageId": "r"
    }
   },
   "outputs": [
    {
     "name": "stdout",
     "output_type": "stream",
     "text": [
      "[1] \"PP\"\n"
     ]
    },
    {
     "data": {
      "text/plain": [
       "\n",
       "\tWilcoxon rank sum exact test\n",
       "\n",
       "data:  metadata_ccl4_cpos_pp$PP and metadata_ccl4_cneg_pp$PP\n",
       "W = 36, p-value = 0.002165\n",
       "alternative hypothesis: true location shift is not equal to 0\n"
      ]
     },
     "metadata": {},
     "output_type": "display_data"
    },
    {
     "data": {
      "text/plain": [
       "\n",
       "\tWilcoxon rank sum exact test\n",
       "\n",
       "data:  metadata_ccl4_r1_pp$PP and metadata_ccl4_cpos_pp$PP\n",
       "W = 1, p-value = 0.004329\n",
       "alternative hypothesis: true location shift is not equal to 0\n"
      ]
     },
     "metadata": {},
     "output_type": "display_data"
    },
    {
     "name": "stderr",
     "output_type": "stream",
     "text": [
      "Warning message in wilcox.test.default(metadata_ccl4_r2_pp$PP, metadata_ccl4_r1_pp$PP, :\n",
      "\"cannot compute exact p-value with ties\"\n"
     ]
    },
    {
     "data": {
      "text/plain": [
       "\n",
       "\tWilcoxon rank sum test with continuity correction\n",
       "\n",
       "data:  metadata_ccl4_r2_pp$PP and metadata_ccl4_r1_pp$PP\n",
       "W = 17.5, p-value = 1\n",
       "alternative hypothesis: true location shift is not equal to 0\n"
      ]
     },
     "metadata": {},
     "output_type": "display_data"
    },
    {
     "name": "stdout",
     "output_type": "stream",
     "text": [
      "[1] \"CPA\"\n"
     ]
    },
    {
     "data": {
      "text/plain": [
       "\n",
       "\tWilcoxon rank sum exact test\n",
       "\n",
       "data:  metadata_ccl4_cpos_cpa$CPA and metadata_ccl4_cneg_cpa$CPA\n",
       "W = 36, p-value = 0.002165\n",
       "alternative hypothesis: true location shift is not equal to 0\n"
      ]
     },
     "metadata": {},
     "output_type": "display_data"
    },
    {
     "data": {
      "text/plain": [
       "\n",
       "\tWilcoxon rank sum exact test\n",
       "\n",
       "data:  metadata_ccl4_r1_cpa$CPA and metadata_ccl4_cpos_cpa$CPA\n",
       "W = 4, p-value = 0.02597\n",
       "alternative hypothesis: true location shift is not equal to 0\n"
      ]
     },
     "metadata": {},
     "output_type": "display_data"
    },
    {
     "data": {
      "text/plain": [
       "\n",
       "\tWilcoxon rank sum exact test\n",
       "\n",
       "data:  metadata_ccl4_r2_cpa$CPA and metadata_ccl4_r1_cpa$CPA\n",
       "W = 0, p-value = 0.002165\n",
       "alternative hypothesis: true location shift is not equal to 0\n"
      ]
     },
     "metadata": {},
     "output_type": "display_data"
    },
    {
     "name": "stdout",
     "output_type": "stream",
     "text": [
      "[1] \"ALT\"\n"
     ]
    },
    {
     "name": "stderr",
     "output_type": "stream",
     "text": [
      "Warning message in wilcox.test.default(metadata_ccl4_cpos_alt$ALT, metadata_ccl4_cneg_alt$ALT, :\n",
      "\"cannot compute exact p-value with ties\"\n"
     ]
    },
    {
     "data": {
      "text/plain": [
       "\n",
       "\tWilcoxon rank sum test with continuity correction\n",
       "\n",
       "data:  metadata_ccl4_cpos_alt$ALT and metadata_ccl4_cneg_alt$ALT\n",
       "W = 36, p-value = 0.004772\n",
       "alternative hypothesis: true location shift is not equal to 0\n"
      ]
     },
     "metadata": {},
     "output_type": "display_data"
    },
    {
     "name": "stderr",
     "output_type": "stream",
     "text": [
      "Warning message in wilcox.test.default(metadata_ccl4_r1_alt$ALT, metadata_ccl4_cpos_alt$ALT, :\n",
      "\"cannot compute exact p-value with ties\"\n"
     ]
    },
    {
     "data": {
      "text/plain": [
       "\n",
       "\tWilcoxon rank sum test with continuity correction\n",
       "\n",
       "data:  metadata_ccl4_r1_alt$ALT and metadata_ccl4_cpos_alt$ALT\n",
       "W = 0, p-value = 0.004698\n",
       "alternative hypothesis: true location shift is not equal to 0\n"
      ]
     },
     "metadata": {},
     "output_type": "display_data"
    },
    {
     "name": "stderr",
     "output_type": "stream",
     "text": [
      "Warning message in wilcox.test.default(metadata_ccl4_r2_alt$ALT, metadata_ccl4_r1_alt$ALT, :\n",
      "\"cannot compute exact p-value with ties\"\n"
     ]
    },
    {
     "data": {
      "text/plain": [
       "\n",
       "\tWilcoxon rank sum test with continuity correction\n",
       "\n",
       "data:  metadata_ccl4_r2_alt$ALT and metadata_ccl4_r1_alt$ALT\n",
       "W = 20.5, p-value = 0.7379\n",
       "alternative hypothesis: true location shift is not equal to 0\n"
      ]
     },
     "metadata": {},
     "output_type": "display_data"
    },
    {
     "name": "stdout",
     "output_type": "stream",
     "text": [
      "[1] \"AST\"\n"
     ]
    },
    {
     "data": {
      "text/plain": [
       "\n",
       "\tWilcoxon rank sum exact test\n",
       "\n",
       "data:  metadata_ccl4_cpos_ast$AST and metadata_ccl4_cneg_ast$AST\n",
       "W = 36, p-value = 0.002165\n",
       "alternative hypothesis: true location shift is not equal to 0\n"
      ]
     },
     "metadata": {},
     "output_type": "display_data"
    },
    {
     "name": "stderr",
     "output_type": "stream",
     "text": [
      "Warning message in wilcox.test.default(metadata_ccl4_r1_ast$AST, metadata_ccl4_cpos_ast$AST, :\n",
      "\"cannot compute exact p-value with ties\"\n"
     ]
    },
    {
     "data": {
      "text/plain": [
       "\n",
       "\tWilcoxon rank sum test with continuity correction\n",
       "\n",
       "data:  metadata_ccl4_r1_ast$AST and metadata_ccl4_cpos_ast$AST\n",
       "W = 1, p-value = 0.008127\n",
       "alternative hypothesis: true location shift is not equal to 0\n"
      ]
     },
     "metadata": {},
     "output_type": "display_data"
    },
    {
     "name": "stderr",
     "output_type": "stream",
     "text": [
      "Warning message in wilcox.test.default(metadata_ccl4_r2_ast$AST, metadata_ccl4_r1_ast$AST, :\n",
      "\"cannot compute exact p-value with ties\"\n"
     ]
    },
    {
     "data": {
      "text/plain": [
       "\n",
       "\tWilcoxon rank sum test with continuity correction\n",
       "\n",
       "data:  metadata_ccl4_r2_ast$AST and metadata_ccl4_r1_ast$AST\n",
       "W = 9.5, p-value = 0.1832\n",
       "alternative hypothesis: true location shift is not equal to 0\n"
      ]
     },
     "metadata": {},
     "output_type": "display_data"
    }
   ],
   "source": [
    "print(\"PP\")\n",
    "wilcox.test(metadata_ccl4_cpos_pp$PP, metadata_ccl4_cneg_pp$PP, paired = FALSE, alternative = \"two.sided\")\n",
    "wilcox.test(metadata_ccl4_r1_pp$PP, metadata_ccl4_cpos_pp$PP, paired = FALSE, alternative = \"two.sided\")\n",
    "wilcox.test(metadata_ccl4_r2_pp$PP, metadata_ccl4_r1_pp$PP, paired = FALSE, alternative = \"two.sided\")\n",
    "\n",
    "print(\"CPA\")\n",
    "wilcox.test(metadata_ccl4_cpos_cpa$CPA, metadata_ccl4_cneg_cpa$CPA, paired = FALSE, alternative = \"two.sided\")\n",
    "wilcox.test(metadata_ccl4_r1_cpa$CPA, metadata_ccl4_cpos_cpa$CPA, paired = FALSE, alternative = \"two.sided\")\n",
    "wilcox.test(metadata_ccl4_r2_cpa$CPA, metadata_ccl4_r1_cpa$CPA, paired = FALSE, alternative = \"two.sided\")\n",
    "\n",
    "print(\"ALT\")\n",
    "wilcox.test(metadata_ccl4_cpos_alt$ALT, metadata_ccl4_cneg_alt$ALT, paired = FALSE, alternative = \"two.sided\")\n",
    "wilcox.test(metadata_ccl4_r1_alt$ALT, metadata_ccl4_cpos_alt$ALT, paired = FALSE, alternative = \"two.sided\")\n",
    "wilcox.test(metadata_ccl4_r2_alt$ALT, metadata_ccl4_r1_alt$ALT, paired = FALSE, alternative = \"two.sided\")\n",
    "\n",
    "print(\"AST\")\n",
    "wilcox.test(metadata_ccl4_cpos_ast$AST, metadata_ccl4_cneg_ast$AST, paired = FALSE, alternative = \"two.sided\")\n",
    "wilcox.test(metadata_ccl4_r1_ast$AST, metadata_ccl4_cpos_ast$AST, paired = FALSE, alternative = \"two.sided\")\n",
    "wilcox.test(metadata_ccl4_r2_ast$AST, metadata_ccl4_r1_ast$AST, paired = FALSE, alternative = \"two.sided\")"
   ]
  },
  {
   "cell_type": "code",
   "execution_count": 105,
   "id": "f3d2d4e1",
   "metadata": {
    "vscode": {
     "languageId": "r"
    }
   },
   "outputs": [
    {
     "data": {
      "text/plain": [
       "\n",
       "\tWilcoxon rank sum exact test\n",
       "\n",
       "data:  metadata_ccl4_r2_pp$PP and metadata_ccl4_cpos_pp$PP\n",
       "W = 0, p-value = 0.002165\n",
       "alternative hypothesis: true location shift is not equal to 0\n"
      ]
     },
     "metadata": {},
     "output_type": "display_data"
    },
    {
     "data": {
      "text/plain": [
       "\n",
       "\tWilcoxon rank sum exact test\n",
       "\n",
       "data:  metadata_ccl4_r2_cpa$CPA and metadata_ccl4_cpos_cpa$CPA\n",
       "W = 0, p-value = 0.002165\n",
       "alternative hypothesis: true location shift is not equal to 0\n"
      ]
     },
     "metadata": {},
     "output_type": "display_data"
    },
    {
     "name": "stderr",
     "output_type": "stream",
     "text": [
      "Warning message in wilcox.test.default(metadata_ccl4_r2_alt$ALT, metadata_ccl4_cpos_alt$ALT, :\n",
      "\"cannot compute exact p-value with ties\"\n"
     ]
    },
    {
     "data": {
      "text/plain": [
       "\n",
       "\tWilcoxon rank sum test with continuity correction\n",
       "\n",
       "data:  metadata_ccl4_r2_alt$ALT and metadata_ccl4_cpos_alt$ALT\n",
       "W = 0, p-value = 0.004922\n",
       "alternative hypothesis: true location shift is not equal to 0\n"
      ]
     },
     "metadata": {},
     "output_type": "display_data"
    },
    {
     "name": "stderr",
     "output_type": "stream",
     "text": [
      "Warning message in wilcox.test.default(metadata_ccl4_r2_ast$AST, metadata_ccl4_cpos_ast$AST, :\n",
      "\"cannot compute exact p-value with ties\"\n"
     ]
    },
    {
     "data": {
      "text/plain": [
       "\n",
       "\tWilcoxon rank sum test with continuity correction\n",
       "\n",
       "data:  metadata_ccl4_r2_ast$AST and metadata_ccl4_cpos_ast$AST\n",
       "W = 0, p-value = 0.004772\n",
       "alternative hypothesis: true location shift is not equal to 0\n"
      ]
     },
     "metadata": {},
     "output_type": "display_data"
    }
   ],
   "source": [
    "wilcox.test(metadata_ccl4_r2_pp$PP, metadata_ccl4_cpos_pp$PP, paired = FALSE, alternative = \"two.sided\")\n",
    "wilcox.test(metadata_ccl4_r2_cpa$CPA, metadata_ccl4_cpos_cpa$CPA, paired = FALSE, alternative = \"two.sided\")\n",
    "wilcox.test(metadata_ccl4_r2_alt$ALT, metadata_ccl4_cpos_alt$ALT, paired = FALSE, alternative = \"two.sided\")\n",
    "wilcox.test(metadata_ccl4_r2_ast$AST, metadata_ccl4_cpos_ast$AST, paired = FALSE, alternative = \"two.sided\")"
   ]
  },
  {
   "attachments": {},
   "cell_type": "markdown",
   "id": "1b99884e",
   "metadata": {},
   "source": [
    "### TAA"
   ]
  },
  {
   "cell_type": "code",
   "execution_count": 33,
   "id": "e67db04a",
   "metadata": {
    "vscode": {
     "languageId": "r"
    }
   },
   "outputs": [
    {
     "name": "stdout",
     "output_type": "stream",
     "text": [
      "[1] \"PP\"\n"
     ]
    },
    {
     "data": {
      "text/plain": [
       "\n",
       "\tWilcoxon rank sum exact test\n",
       "\n",
       "data:  metadata_taa_cpos_pp$PP and metadata_taa_cneg_pp$PP\n",
       "W = 36, p-value = 0.002165\n",
       "alternative hypothesis: true location shift is not equal to 0\n"
      ]
     },
     "metadata": {},
     "output_type": "display_data"
    },
    {
     "data": {
      "text/plain": [
       "\n",
       "\tWilcoxon rank sum exact test\n",
       "\n",
       "data:  metadata_taa_r1_pp$PP and metadata_taa_cpos_pp$PP\n",
       "W = 13, p-value = 0.4848\n",
       "alternative hypothesis: true location shift is not equal to 0\n"
      ]
     },
     "metadata": {},
     "output_type": "display_data"
    },
    {
     "data": {
      "text/plain": [
       "\n",
       "\tWilcoxon rank sum exact test\n",
       "\n",
       "data:  metadata_taa_r2_pp$PP and metadata_taa_r1_pp$PP\n",
       "W = 1, p-value = 0.004329\n",
       "alternative hypothesis: true location shift is not equal to 0\n"
      ]
     },
     "metadata": {},
     "output_type": "display_data"
    },
    {
     "name": "stdout",
     "output_type": "stream",
     "text": [
      "[1] \"CPA\"\n"
     ]
    },
    {
     "name": "stderr",
     "output_type": "stream",
     "text": [
      "Warning message in wilcox.test.default(metadata_taa_cpos_cpa$CPA, metadata_taa_cneg_cpa$CPA, :\n",
      "\"cannot compute exact p-value with ties\"\n"
     ]
    },
    {
     "data": {
      "text/plain": [
       "\n",
       "\tWilcoxon rank sum test with continuity correction\n",
       "\n",
       "data:  metadata_taa_cpos_cpa$CPA and metadata_taa_cneg_cpa$CPA\n",
       "W = 36, p-value = 0.004998\n",
       "alternative hypothesis: true location shift is not equal to 0\n"
      ]
     },
     "metadata": {},
     "output_type": "display_data"
    },
    {
     "data": {
      "text/plain": [
       "\n",
       "\tWilcoxon rank sum exact test\n",
       "\n",
       "data:  metadata_taa_r1_cpa$CPA and metadata_taa_cpos_cpa$CPA\n",
       "W = 1, p-value = 0.004329\n",
       "alternative hypothesis: true location shift is not equal to 0\n"
      ]
     },
     "metadata": {},
     "output_type": "display_data"
    },
    {
     "name": "stderr",
     "output_type": "stream",
     "text": [
      "Warning message in wilcox.test.default(metadata_taa_r2_cpa$CPA, metadata_taa_r1_cpa$CPA, :\n",
      "\"cannot compute exact p-value with ties\"\n"
     ]
    },
    {
     "data": {
      "text/plain": [
       "\n",
       "\tWilcoxon rank sum test with continuity correction\n",
       "\n",
       "data:  metadata_taa_r2_cpa$CPA and metadata_taa_r1_cpa$CPA\n",
       "W = 7, p-value = 0.09213\n",
       "alternative hypothesis: true location shift is not equal to 0\n"
      ]
     },
     "metadata": {},
     "output_type": "display_data"
    },
    {
     "name": "stdout",
     "output_type": "stream",
     "text": [
      "[1] \"ALT\"\n"
     ]
    },
    {
     "name": "stderr",
     "output_type": "stream",
     "text": [
      "Warning message in wilcox.test.default(metadata_taa_cpos_alt$ALT, metadata_taa_cneg_alt$ALT, :\n",
      "\"cannot compute exact p-value with ties\"\n"
     ]
    },
    {
     "data": {
      "text/plain": [
       "\n",
       "\tWilcoxon rank sum test with continuity correction\n",
       "\n",
       "data:  metadata_taa_cpos_alt$ALT and metadata_taa_cneg_alt$ALT\n",
       "W = 36, p-value = 0.004698\n",
       "alternative hypothesis: true location shift is not equal to 0\n"
      ]
     },
     "metadata": {},
     "output_type": "display_data"
    },
    {
     "data": {
      "text/plain": [
       "\n",
       "\tWilcoxon rank sum exact test\n",
       "\n",
       "data:  metadata_taa_r1_alt$ALT and metadata_taa_cpos_alt$ALT\n",
       "W = 0, p-value = 0.002165\n",
       "alternative hypothesis: true location shift is not equal to 0\n"
      ]
     },
     "metadata": {},
     "output_type": "display_data"
    },
    {
     "name": "stderr",
     "output_type": "stream",
     "text": [
      "Warning message in wilcox.test.default(metadata_taa_r2_alt$ALT, metadata_taa_r1_alt$ALT, :\n",
      "\"cannot compute exact p-value with ties\"\n"
     ]
    },
    {
     "data": {
      "text/plain": [
       "\n",
       "\tWilcoxon rank sum test with continuity correction\n",
       "\n",
       "data:  metadata_taa_r2_alt$ALT and metadata_taa_r1_alt$ALT\n",
       "W = 4, p-value = 0.02977\n",
       "alternative hypothesis: true location shift is not equal to 0\n"
      ]
     },
     "metadata": {},
     "output_type": "display_data"
    },
    {
     "name": "stdout",
     "output_type": "stream",
     "text": [
      "[1] \"AST\"\n"
     ]
    },
    {
     "name": "stderr",
     "output_type": "stream",
     "text": [
      "Warning message in wilcox.test.default(metadata_taa_cpos_ast$AST, metadata_taa_cneg_ast$AST, :\n",
      "\"cannot compute exact p-value with ties\"\n"
     ]
    },
    {
     "data": {
      "text/plain": [
       "\n",
       "\tWilcoxon rank sum test with continuity correction\n",
       "\n",
       "data:  metadata_taa_cpos_ast$AST and metadata_taa_cneg_ast$AST\n",
       "W = 36, p-value = 0.004998\n",
       "alternative hypothesis: true location shift is not equal to 0\n"
      ]
     },
     "metadata": {},
     "output_type": "display_data"
    },
    {
     "name": "stderr",
     "output_type": "stream",
     "text": [
      "Warning message in wilcox.test.default(metadata_taa_r1_ast$AST, metadata_taa_cpos_ast$AST, :\n",
      "\"cannot compute exact p-value with ties\"\n"
     ]
    },
    {
     "data": {
      "text/plain": [
       "\n",
       "\tWilcoxon rank sum test with continuity correction\n",
       "\n",
       "data:  metadata_taa_r1_ast$AST and metadata_taa_cpos_ast$AST\n",
       "W = 0, p-value = 0.004998\n",
       "alternative hypothesis: true location shift is not equal to 0\n"
      ]
     },
     "metadata": {},
     "output_type": "display_data"
    },
    {
     "name": "stderr",
     "output_type": "stream",
     "text": [
      "Warning message in wilcox.test.default(metadata_taa_r2_ast$AST, metadata_taa_r1_ast$AST, :\n",
      "\"cannot compute exact p-value with ties\"\n"
     ]
    },
    {
     "data": {
      "text/plain": [
       "\n",
       "\tWilcoxon rank sum test with continuity correction\n",
       "\n",
       "data:  metadata_taa_r2_ast$AST and metadata_taa_r1_ast$AST\n",
       "W = 8, p-value = 0.1242\n",
       "alternative hypothesis: true location shift is not equal to 0\n"
      ]
     },
     "metadata": {},
     "output_type": "display_data"
    }
   ],
   "source": [
    "print(\"PP\")\n",
    "wilcox.test(metadata_taa_cpos_pp$PP, metadata_taa_cneg_pp$PP, paired = FALSE, alternative = \"two.sided\")\n",
    "wilcox.test(metadata_taa_r1_pp$PP, metadata_taa_cpos_pp$PP, paired = FALSE, alternative = \"two.sided\")\n",
    "wilcox.test(metadata_taa_r2_pp$PP, metadata_taa_r1_pp$PP, paired = FALSE, alternative = \"two.sided\")\n",
    "\n",
    "print(\"CPA\")\n",
    "wilcox.test(metadata_taa_cpos_cpa$CPA, metadata_taa_cneg_cpa$CPA, paired = FALSE, alternative = \"two.sided\")\n",
    "wilcox.test(metadata_taa_r1_cpa$CPA, metadata_taa_cpos_cpa$CPA, paired = FALSE, alternative = \"two.sided\")\n",
    "wilcox.test(metadata_taa_r2_cpa$CPA, metadata_taa_r1_cpa$CPA, paired = FALSE, alternative = \"two.sided\")\n",
    "\n",
    "print(\"ALT\")\n",
    "wilcox.test(metadata_taa_cpos_alt$ALT, metadata_taa_cneg_alt$ALT, paired = FALSE, alternative = \"two.sided\")\n",
    "wilcox.test(metadata_taa_r1_alt$ALT, metadata_taa_cpos_alt$ALT, paired = FALSE, alternative = \"two.sided\")\n",
    "wilcox.test(metadata_taa_r2_alt$ALT, metadata_taa_r1_alt$ALT, paired = FALSE, alternative = \"two.sided\")\n",
    "\n",
    "print(\"AST\")\n",
    "wilcox.test(metadata_taa_cpos_ast$AST, metadata_taa_cneg_ast$AST, paired = FALSE, alternative = \"two.sided\")\n",
    "wilcox.test(metadata_taa_r1_ast$AST, metadata_taa_cpos_ast$AST, paired = FALSE, alternative = \"two.sided\")\n",
    "wilcox.test(metadata_taa_r2_ast$AST, metadata_taa_r1_ast$AST, paired = FALSE, alternative = \"two.sided\")"
   ]
  },
  {
   "cell_type": "code",
   "execution_count": 106,
   "id": "be90434d",
   "metadata": {
    "vscode": {
     "languageId": "r"
    }
   },
   "outputs": [
    {
     "data": {
      "text/plain": [
       "\n",
       "\tWilcoxon rank sum exact test\n",
       "\n",
       "data:  metadata_taa_r2_pp$PP and metadata_taa_cpos_pp$PP\n",
       "W = 0, p-value = 0.002165\n",
       "alternative hypothesis: true location shift is not equal to 0\n"
      ]
     },
     "metadata": {},
     "output_type": "display_data"
    },
    {
     "name": "stderr",
     "output_type": "stream",
     "text": [
      "Warning message in wilcox.test.default(metadata_taa_r2_cpa$CPA, metadata_taa_cpos_cpa$CPA, :\n",
      "\"cannot compute exact p-value with ties\"\n"
     ]
    },
    {
     "data": {
      "text/plain": [
       "\n",
       "\tWilcoxon rank sum test with continuity correction\n",
       "\n",
       "data:  metadata_taa_r2_cpa$CPA and metadata_taa_cpos_cpa$CPA\n",
       "W = 0, p-value = 0.004998\n",
       "alternative hypothesis: true location shift is not equal to 0\n"
      ]
     },
     "metadata": {},
     "output_type": "display_data"
    },
    {
     "name": "stderr",
     "output_type": "stream",
     "text": [
      "Warning message in wilcox.test.default(metadata_taa_r2_alt$ALT, metadata_taa_cpos_alt$ALT, :\n",
      "\"cannot compute exact p-value with ties\"\n"
     ]
    },
    {
     "data": {
      "text/plain": [
       "\n",
       "\tWilcoxon rank sum test with continuity correction\n",
       "\n",
       "data:  metadata_taa_r2_alt$ALT and metadata_taa_cpos_alt$ALT\n",
       "W = 0, p-value = 0.004998\n",
       "alternative hypothesis: true location shift is not equal to 0\n"
      ]
     },
     "metadata": {},
     "output_type": "display_data"
    },
    {
     "name": "stderr",
     "output_type": "stream",
     "text": [
      "Warning message in wilcox.test.default(metadata_taa_r2_ast$AST, metadata_taa_cpos_ast$AST, :\n",
      "\"cannot compute exact p-value with ties\"\n"
     ]
    },
    {
     "data": {
      "text/plain": [
       "\n",
       "\tWilcoxon rank sum test with continuity correction\n",
       "\n",
       "data:  metadata_taa_r2_ast$AST and metadata_taa_cpos_ast$AST\n",
       "W = 0, p-value = 0.004698\n",
       "alternative hypothesis: true location shift is not equal to 0\n"
      ]
     },
     "metadata": {},
     "output_type": "display_data"
    }
   ],
   "source": [
    "wilcox.test(metadata_taa_r2_pp$PP, metadata_taa_cpos_pp$PP, paired = FALSE, alternative = \"two.sided\")\n",
    "wilcox.test(metadata_taa_r2_cpa$CPA, metadata_taa_cpos_cpa$CPA, paired = FALSE, alternative = \"two.sided\")\n",
    "wilcox.test(metadata_taa_r2_alt$ALT, metadata_taa_cpos_alt$ALT, paired = FALSE, alternative = \"two.sided\")\n",
    "wilcox.test(metadata_taa_r2_ast$AST, metadata_taa_cpos_ast$AST, paired = FALSE, alternative = \"two.sided\")"
   ]
  },
  {
   "attachments": {},
   "cell_type": "markdown",
   "id": "6a461eaf",
   "metadata": {},
   "source": [
    "## Outputs"
   ]
  },
  {
   "cell_type": "code",
   "execution_count": null,
   "id": "9f1dcfb6",
   "metadata": {
    "vscode": {
     "languageId": "r"
    }
   },
   "outputs": [],
   "source": [
    "ggsave(\"03_outputs/15/f1_c.png\", f1_c, width = 180, height = 90, units - \"px\", device = \"png\")"
   ]
  },
  {
   "cell_type": "code",
   "execution_count": null,
   "id": "7d49d721",
   "metadata": {
    "vscode": {
     "languageId": "r"
    }
   },
   "outputs": [],
   "source": [
    "ggsave(filename = \"03_outputs/15/p_ast.png\", p_ast, width = 60, height = 60, dpi = 600, units = \"mm\", device = \"png\")"
   ]
  }
 ],
 "metadata": {
  "kernelspec": {
   "display_name": "r-rnaseq",
   "language": "R",
   "name": "r-rnaseq"
  },
  "language_info": {
   "codemirror_mode": "r",
   "file_extension": ".r",
   "mimetype": "text/x-r-source",
   "name": "R",
   "pygments_lexer": "r",
   "version": "4.3.1"
  }
 },
 "nbformat": 4,
 "nbformat_minor": 5
}
