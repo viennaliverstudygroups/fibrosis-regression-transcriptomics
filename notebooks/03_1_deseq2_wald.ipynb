{
 "cells": [
  {
   "cell_type": "markdown",
   "id": "cd37487e",
   "metadata": {},
   "source": [
    "## Setup"
   ]
  },
  {
   "cell_type": "code",
   "execution_count": 2,
   "id": "af0f43e3-cb8d-47e1-83f7-838396611372",
   "metadata": {
    "vscode": {
     "languageId": "r"
    }
   },
   "outputs": [],
   "source": [
    "source(\"/path/to/the/project/02_notebooks/00_setup.r\")"
   ]
  },
  {
   "cell_type": "code",
   "execution_count": 3,
   "id": "05f281cd-062c-4763-b628-656f20600836",
   "metadata": {
    "vscode": {
     "languageId": "r"
    }
   },
   "outputs": [],
   "source": [
    "p_load(\"DESeq2\", \"dplyr\", install = FALSE)"
   ]
  },
  {
   "cell_type": "code",
   "execution_count": 4,
   "id": "bbb0f8ad-f01b-4580-b750-34888a9e85d5",
   "metadata": {
    "vscode": {
     "languageId": "r"
    }
   },
   "outputs": [],
   "source": [
    "metadata <- read.csv(\"2022_08_12_CDL_regression_sample_annotation.csv\", row.names = 1)\n",
    "data <- read.csv(\"03_outputs/02/count_matrix_annotated.csv\", row.names = 1)\n",
    "count_matrix <- data "
   ]
  },
  {
   "cell_type": "code",
   "execution_count": 5,
   "id": "febc3479-9388-42a0-8bf1-5f77855170d0",
   "metadata": {
    "vscode": {
     "languageId": "r"
    }
   },
   "outputs": [],
   "source": [
    "metadata <- metadata %>%\n",
    "  tidyr::unite(\"Model_group\", Model:Group, remove = FALSE)"
   ]
  },
  {
   "cell_type": "code",
   "execution_count": 6,
   "id": "1b341bbb-4fe2-4bef-b3c7-cb95b15650a0",
   "metadata": {
    "vscode": {
     "languageId": "r"
    }
   },
   "outputs": [],
   "source": [
    "metadata <- metadata %>%\n",
    "  tidyr::unite(\"Model_regression\", Model,Regression, remove = FALSE)"
   ]
  },
  {
   "cell_type": "markdown",
   "id": "a806c2d4-8417-4233-998d-81358fc29bd3",
   "metadata": {
    "tags": []
   },
   "source": [
    "## Differential expression"
   ]
  },
  {
   "cell_type": "markdown",
   "id": "5c8f07ee-7f90-4c89-bea1-56b263f7ab58",
   "metadata": {
    "tags": []
   },
   "source": [
    "### Merged dds - Cpos vs Cneg"
   ]
  },
  {
   "cell_type": "code",
   "execution_count": 8,
   "id": "0b734896-4398-4db7-8f1e-81012b8ea186",
   "metadata": {
    "collapsed": true,
    "jupyter": {
     "outputs_hidden": true
    },
    "tags": [],
    "vscode": {
     "languageId": "r"
    }
   },
   "outputs": [
    {
     "name": "stderr",
     "output_type": "stream",
     "text": [
      "Warning message in DESeqDataSet(se, design = design, ignoreRank):\n",
      "\"some variables in design formula are characters, converting to factors\"\n",
      "estimating size factors\n",
      "\n",
      "estimating dispersions\n",
      "\n",
      "gene-wise dispersion estimates\n",
      "\n",
      "mean-dispersion relationship\n",
      "\n",
      "final dispersion estimates\n",
      "\n",
      "fitting model and testing\n",
      "\n"
     ]
    }
   ],
   "source": [
    "dds_combined <- DESeqDataSetFromMatrix(countData = count_matrix, colData = metadata,\n",
    "  design = ~Model_group)\n",
    "dds_combined <- DESeq(dds_combined)"
   ]
  },
  {
   "cell_type": "code",
   "execution_count": 7,
   "id": "d070c17c-8f65-4769-8bdf-aae181a135bb",
   "metadata": {
    "tags": [],
    "vscode": {
     "languageId": "r"
    }
   },
   "outputs": [
    {
     "name": "stderr",
     "output_type": "stream",
     "text": [
      "using 'ashr' for LFC shrinkage. If used in published research, please cite:\n",
      "    Stephens, M. (2016) False discovery rates: a new deal. Biostatistics, 18:2.\n",
      "    https://doi.org/10.1093/biostatistics/kxw041\n",
      "\n",
      "using 'ashr' for LFC shrinkage. If used in published research, please cite:\n",
      "    Stephens, M. (2016) False discovery rates: a new deal. Biostatistics, 18:2.\n",
      "    https://doi.org/10.1093/biostatistics/kxw041\n",
      "\n"
     ]
    }
   ],
   "source": [
    "res_TAA_pos_cneg <- lfcShrink(dds_combined, type=\"ashr\", contrast = c(\"Model_group\", \"TAA_Cpos\", \"TAA_Cneg\"))\n",
    "res_TAA_cpos_cneg_sig <- subset(res_TAA_pos_cneg, padj < 0.01)\n",
    "\n",
    "res_CCL4_cpos_cneg <- lfcShrink(dds_combined, type=\"ashr\", contrast = c(\"Model_group\", \"CCL4_Cpos\", \"CCL4_Cneg\"))\n",
    "res_CCL4_cpos_cneg_sig <- subset(res_CCL4_cpos_cneg, padj < 0.01)"
   ]
  },
  {
   "cell_type": "code",
   "execution_count": 8,
   "id": "647b1476-27fe-4d09-ba61-4454f9025bd3",
   "metadata": {
    "vscode": {
     "languageId": "r"
    }
   },
   "outputs": [],
   "source": [
    "TAA_cpos_cneg_sig_up <- subset(res_TAA_cpos_cneg_sig, log2FoldChange > 1.5)\n",
    "TAA_cpos_cneg_sig_down <- subset(res_TAA_cpos_cneg_sig, log2FoldChange < -1.5)\n",
    "\n",
    "CCL4_cpos_cneg_sig_up <- subset(res_CCL4_cpos_cneg_sig, log2FoldChange > 1.5)\n",
    "CCL4_cpos_cneg_sig_down <- subset(res_CCL4_cpos_cneg_sig, log2FoldChange < -1.5)"
   ]
  },
  {
   "cell_type": "markdown",
   "id": "182e828a-5aef-445d-8e4f-9545e4ed273d",
   "metadata": {
    "tags": []
   },
   "source": [
    "### Merged dds - Reg vs Cpos"
   ]
  },
  {
   "cell_type": "code",
   "execution_count": 39,
   "id": "59bd0319-82f3-4bb7-9bdc-a733a69c23ea",
   "metadata": {
    "tags": [],
    "vscode": {
     "languageId": "r"
    }
   },
   "outputs": [
    {
     "name": "stderr",
     "output_type": "stream",
     "text": [
      "Warning message in DESeqDataSet(se, design = design, ignoreRank):\n",
      "\"some variables in design formula are characters, converting to factors\"\n",
      "estimating size factors\n",
      "\n",
      "estimating dispersions\n",
      "\n",
      "gene-wise dispersion estimates\n",
      "\n",
      "mean-dispersion relationship\n",
      "\n",
      "final dispersion estimates\n",
      "\n",
      "fitting model and testing\n",
      "\n",
      "-- replacing outliers and refitting for 93 genes\n",
      "-- DESeq argument 'minReplicatesForReplace' = 7 \n",
      "-- original counts are preserved in counts(dds)\n",
      "\n",
      "estimating dispersions\n",
      "\n",
      "fitting model and testing\n",
      "\n"
     ]
    }
   ],
   "source": [
    "dds_combined_reg <- DESeqDataSetFromMatrix(countData = count_matrix, colData = metadata,\n",
    "  design = ~Model_regression)\n",
    "dds_combined_reg <- DESeq(dds_combined_reg)"
   ]
  },
  {
   "cell_type": "code",
   "execution_count": 42,
   "id": "334e2d60-a21f-4b4d-aae0-e679543d8d1f",
   "metadata": {
    "vscode": {
     "languageId": "r"
    }
   },
   "outputs": [
    {
     "name": "stderr",
     "output_type": "stream",
     "text": [
      "using 'ashr' for LFC shrinkage. If used in published research, please cite:\n",
      "    Stephens, M. (2016) False discovery rates: a new deal. Biostatistics, 18:2.\n",
      "    https://doi.org/10.1093/biostatistics/kxw041\n",
      "\n",
      "using 'ashr' for LFC shrinkage. If used in published research, please cite:\n",
      "    Stephens, M. (2016) False discovery rates: a new deal. Biostatistics, 18:2.\n",
      "    https://doi.org/10.1093/biostatistics/kxw041\n",
      "\n"
     ]
    }
   ],
   "source": [
    "res_TAA_reg_pos <- lfcShrink(dds_combined_reg, type=\"ashr\", contrast = c(\"Model_regression\", \"TAA_regression\", \"TAA_positive\"))\n",
    "res_TAA_reg_pos_sig <- subset(res_TAA_pos_reg, padj < 0.01)\n",
    "\n",
    "res_CCL4_reg_pos <- lfcShrink(dds_combined_reg, type=\"ashr\", contrast = c(\"Model_regression\", \"CCL4_regression\", \"CCL4_positive\"))\n",
    "res_CCL4_reg_pos_sig <- subset(res_CCL4_pos_reg, padj < 0.01)"
   ]
  },
  {
   "cell_type": "code",
   "execution_count": 43,
   "id": "8c5bd9e2-df94-4b0c-a7d8-6e92295266ba",
   "metadata": {
    "vscode": {
     "languageId": "r"
    }
   },
   "outputs": [],
   "source": [
    "res_TAA_reg_pos_sig_up <- subset(res_TAA_reg_pos_sig, log2FoldChange > 1.5)\n",
    "res_TAA_reg_pos_sig_down <- subset(res_TAA_reg_pos_sig, log2FoldChange < -1.5)\n",
    "\n",
    "res_CCL4_reg_pos_sig_up <- subset(res_CCL4_reg_pos_sig, log2FoldChange > 1.5)\n",
    "res_CCL4_reg_pos_sig_down <- subset(res_CCL4_reg_pos_sig, log2FoldChange < -1.5)"
   ]
  },
  {
   "cell_type": "markdown",
   "id": "0ae9a218-a2f7-4a18-977f-7fd06142aaee",
   "metadata": {},
   "source": [
    "## Group-specific counts and metadata"
   ]
  },
  {
   "cell_type": "code",
   "execution_count": 9,
   "id": "6a3f9301-2813-4bfb-9e76-bb98f1d2017e",
   "metadata": {
    "vscode": {
     "languageId": "r"
    }
   },
   "outputs": [],
   "source": [
    "ccl4_samples <- metadata[c(1:24),]"
   ]
  },
  {
   "cell_type": "code",
   "execution_count": 10,
   "id": "a1dc826b-01d4-48f4-bb96-b83f123ac381",
   "metadata": {
    "vscode": {
     "languageId": "r"
    }
   },
   "outputs": [],
   "source": [
    "taa_samples <- metadata[c(25:48),]"
   ]
  },
  {
   "cell_type": "code",
   "execution_count": 11,
   "id": "f47f369b-7778-416c-85ea-a2fc5beae569",
   "metadata": {
    "tags": [],
    "vscode": {
     "languageId": "r"
    }
   },
   "outputs": [],
   "source": [
    "ccl4_matrix <- count_matrix[, !colnames(count_matrix) %in% taa_samples$`Sample_id`]"
   ]
  },
  {
   "cell_type": "code",
   "execution_count": 12,
   "id": "b50a9159-dc24-4b49-9b82-9786eb742cf9",
   "metadata": {
    "vscode": {
     "languageId": "r"
    }
   },
   "outputs": [],
   "source": [
    "taa_matrix <- count_matrix[, !colnames(count_matrix) %in% ccl4_samples$`Sample_id`]"
   ]
  },
  {
   "cell_type": "markdown",
   "id": "7f88dd66-d39d-4137-9d04-786b749910eb",
   "metadata": {
    "tags": []
   },
   "source": [
    "## Group-specific dds"
   ]
  },
  {
   "cell_type": "code",
   "execution_count": 13,
   "id": "3448f3a7-fc30-4360-9442-daa021c7f60a",
   "metadata": {
    "vscode": {
     "languageId": "r"
    }
   },
   "outputs": [],
   "source": [
    "ccl4_samples <- ccl4_samples\n",
    "taa_samples <- taa_samples\n",
    "\n",
    "ccl4_matrix <- ccl4_matrix\n",
    "taa_matrix <- taa_matrix"
   ]
  },
  {
   "cell_type": "code",
   "execution_count": 14,
   "id": "29f891a5-3b40-407f-988f-7e8cbf4241b2",
   "metadata": {
    "tags": [],
    "vscode": {
     "languageId": "r"
    }
   },
   "outputs": [
    {
     "name": "stderr",
     "output_type": "stream",
     "text": [
      "Warning message in DESeqDataSet(se, design = design, ignoreRank):\n",
      "\"some variables in design formula are characters, converting to factors\"\n",
      "estimating size factors\n",
      "\n",
      "estimating dispersions\n",
      "\n",
      "gene-wise dispersion estimates\n",
      "\n",
      "mean-dispersion relationship\n",
      "\n",
      "final dispersion estimates\n",
      "\n",
      "fitting model and testing\n",
      "\n",
      "Warning message in DESeqDataSet(se, design = design, ignoreRank):\n",
      "\"some variables in design formula are characters, converting to factors\"\n",
      "estimating size factors\n",
      "\n",
      "estimating dispersions\n",
      "\n",
      "gene-wise dispersion estimates\n",
      "\n",
      "mean-dispersion relationship\n",
      "\n",
      "final dispersion estimates\n",
      "\n",
      "fitting model and testing\n",
      "\n"
     ]
    }
   ],
   "source": [
    "dds_ccl4 <- DESeqDataSetFromMatrix(countData = ccl4_matrix, colData = ccl4_samples,\n",
    "  design = ~Group)\n",
    "dds_ccl4 <- DESeq(dds_ccl4)\n",
    "\n",
    "dds_taa <- DESeqDataSetFromMatrix(countData = taa_matrix, colData = taa_samples,\n",
    "  design = ~Group)\n",
    "dds_taa <- DESeq(dds_taa)"
   ]
  },
  {
   "attachments": {},
   "cell_type": "markdown",
   "id": "830c4a9c",
   "metadata": {},
   "source": [
    "## CCL4 vs TAA"
   ]
  },
  {
   "cell_type": "code",
   "execution_count": 11,
   "id": "2f4707bc",
   "metadata": {
    "vscode": {
     "languageId": "r"
    }
   },
   "outputs": [
    {
     "name": "stderr",
     "output_type": "stream",
     "text": [
      "using 'ashr' for LFC shrinkage. If used in published research, please cite:\n",
      "    Stephens, M. (2016) False discovery rates: a new deal. Biostatistics, 18:2.\n",
      "    https://doi.org/10.1093/biostatistics/kxw041\n",
      "\n"
     ]
    }
   ],
   "source": [
    "res_ccl4_taa_cir <- lfcShrink(dds_combined, type=\"ashr\", contrast = c(\"Model_group\", \"CCL4_Cpos\", \"TAA_Cpos\")) %>% as.data.frame() %>% arrange(padj)\n",
    "res_ccl4_taa_cir <- res_ccl4_taa_cir %>% filter(padj < 0.05)"
   ]
  },
  {
   "cell_type": "code",
   "execution_count": 12,
   "id": "5d9571b9",
   "metadata": {
    "vscode": {
     "languageId": "r"
    }
   },
   "outputs": [
    {
     "name": "stderr",
     "output_type": "stream",
     "text": [
      "using 'ashr' for LFC shrinkage. If used in published research, please cite:\n",
      "    Stephens, M. (2016) False discovery rates: a new deal. Biostatistics, 18:2.\n",
      "    https://doi.org/10.1093/biostatistics/kxw041\n",
      "\n",
      "using 'ashr' for LFC shrinkage. If used in published research, please cite:\n",
      "    Stephens, M. (2016) False discovery rates: a new deal. Biostatistics, 18:2.\n",
      "    https://doi.org/10.1093/biostatistics/kxw041\n",
      "\n",
      "using 'ashr' for LFC shrinkage. If used in published research, please cite:\n",
      "    Stephens, M. (2016) False discovery rates: a new deal. Biostatistics, 18:2.\n",
      "    https://doi.org/10.1093/biostatistics/kxw041\n",
      "\n",
      "using 'ashr' for LFC shrinkage. If used in published research, please cite:\n",
      "    Stephens, M. (2016) False discovery rates: a new deal. Biostatistics, 18:2.\n",
      "    https://doi.org/10.1093/biostatistics/kxw041\n",
      "\n"
     ]
    }
   ],
   "source": [
    "res_ccl4_r2_r1 <- lfcShrink(dds_combined, type=\"ashr\", contrast = c(\"Model_group\", \"CCL4_R2\", \"CCL4_R1\")) %>% as.data.frame() %>% filter(padj < 0.05) %>% arrange(padj)\n",
    "res_taa_r2_r1 <- lfcShrink(dds_combined, type=\"ashr\", contrast = c(\"Model_group\", \"TAA_R2\", \"TAA_R1\")) %>% as.data.frame() %>% filter(padj < 0.05) %>% arrange(padj)\n",
    "\n",
    "res_ccl4_taa_r1_r1 <- lfcShrink(dds_combined, type=\"ashr\", contrast = c(\"Model_group\", \"CCL4_R1\", \"TAA_R1\")) %>% as.data.frame() %>% filter(padj < 0.05) %>% arrange(padj)\n",
    "res_ccl4_taa_r2_r2 <- lfcShrink(dds_combined, type=\"ashr\", contrast = c(\"Model_group\", \"CCL4_R2\", \"TAA_R2\")) %>% as.data.frame() %>% filter(padj < 0.05) %>% arrange(padj)"
   ]
  },
  {
   "cell_type": "markdown",
   "id": "e836f7db-29b9-4373-9dfd-c23335bd1547",
   "metadata": {},
   "source": [
    "## Outputs"
   ]
  },
  {
   "cell_type": "code",
   "execution_count": 13,
   "id": "52e59c8d",
   "metadata": {
    "vscode": {
     "languageId": "r"
    }
   },
   "outputs": [],
   "source": [
    "write.csv(res_ccl4_taa_cir, \"03_outputs/03/res_ccl4_taa_cir.csv\")\n",
    "write.csv(res_ccl4_r2_r1, \"03_outputs/03/res_ccl4_r2_r1.csv\")\n",
    "write.csv(res_taa_r2_r1, \"03_outputs/03/res_taa_r2_r1.csv\")\n",
    "write.csv(res_ccl4_taa_r1_r1, \"03_outputs/03/res_ccl4_taa_r1_r1.csv\")\n",
    "write.csv(res_ccl4_taa_r2_r2, \"03_outputs/03/res_ccl4_taa_r2_r2.csv\")"
   ]
  },
  {
   "cell_type": "code",
   "execution_count": 15,
   "id": "3cf5986e-8a90-49a5-ab93-019990d588bd",
   "metadata": {
    "vscode": {
     "languageId": "r"
    }
   },
   "outputs": [],
   "source": [
    "saveRDS(dds_combined, file = \"03_outputs/03/dds_object_Model_group_wald.rds\")\n",
    "saveRDS(dds_ccl4, file = \"03_outputs/03/dds_object_ccl4_group_wald.rds\")\n",
    "saveRDS(dds_taa, file = \"03_outputs/03/dds_object_taa_group_wald.rds\")\n",
    "\n",
    "write.csv(as.data.frame(res_TAA_cpos_cneg_sig), \n",
    "          file=\"03_outputs/03/de_taa_cpos_cneg_sig_wald.csv\")\n",
    "write.csv(as.data.frame(res_CCL4_cpos_cneg_sig), \n",
    "          file=\"03_outputs/03/de_ccl4_cpos_cneg_sig_wald.csv\")\n",
    "\n",
    "write.csv(as.data.frame(TAA_cpos_cneg_sig_up), \n",
    "          file=\"03_outputs/03/de_taa_cpos_cneg_sig_up_wald.csv\")\n",
    "write.csv(as.data.frame(TAA_cpos_cneg_sig_down), \n",
    "          file=\"03_outputs/03/de_taa_cpos_cneg_sig_down_wald.csv\")\n",
    "write.csv(as.data.frame(CCL4_cpos_cneg_sig_up), \n",
    "          file=\"03_outputs/03/de_ccl4_cpos_cneg_sig_up_wald.csv\")\n",
    "write.csv(as.data.frame(CCL4_cpos_cneg_sig_down), \n",
    "          file=\"03_outputs/03/de_ccl4_cpos_cneg_sig_down_wald.csv\")"
   ]
  },
  {
   "cell_type": "code",
   "execution_count": null,
   "id": "708574f4-670d-48da-942e-7f3f303cbd07",
   "metadata": {
    "vscode": {
     "languageId": "r"
    }
   },
   "outputs": [],
   "source": [
    "saveRDS(dds_ccl4_, file = \"03_outputs/03/dds_object_ccl4_group_wald.rds\")\n",
    "saveRDS(dds_taa, file = \"03_outputs/03/dds_object_taa_group_wald.rds\")"
   ]
  },
  {
   "cell_type": "code",
   "execution_count": 50,
   "id": "63249f83-5de3-4819-80bf-93037abb60d6",
   "metadata": {
    "vscode": {
     "languageId": "r"
    }
   },
   "outputs": [],
   "source": [
    "write.csv(as.data.frame(res_TAA_reg_pos_sig), \n",
    "          file=\"03_outputs/03/de_taa_reg_pos_sig_wald.csv\")\n",
    "write.csv(as.data.frame(res_CCL4_reg_pos_sig), \n",
    "          file=\"03_outputs/03/de_ccl4_reg_pos_sig_wald.csv\")\n",
    "\n",
    "write.csv(as.data.frame(res_TAA_reg_pos_sig_up), \n",
    "          file=\"03_outputs/03/de_taa_reg_pos_sig_up_wald.csv\")\n",
    "write.csv(as.data.frame(res_TAA_reg_pos_sig_down), \n",
    "          file=\"03_outputs/03/de_taa_reg_pos_sig_down_wald.csv\")\n",
    "write.csv(as.data.frame(res_CCL4_reg_pos_sig_up), \n",
    "          file=\"03_outputs/03/de_ccl4_reg_pos_sig_up_wald.csv\")\n",
    "write.csv(as.data.frame(res_CCL4_reg_pos_sig_down), \n",
    "          file=\"03_outputs/03/de_ccl4_reg_pos_sig_down_wald.csv\")"
   ]
  },
  {
   "cell_type": "code",
   "execution_count": 16,
   "id": "f8077649-06dc-4569-b2d8-ccad447a4cd9",
   "metadata": {
    "vscode": {
     "languageId": "r"
    }
   },
   "outputs": [],
   "source": [
    "write.csv(as.data.frame(ccl4_samples), \n",
    "          file=\"03_outputs/03/ccl4_samples_metadata_wald.csv\")\n",
    "write.csv(as.data.frame(taa_samples), \n",
    "          file=\"03_outputs/03/taa_samples_metadata_wald.csv\")\n",
    "\n",
    "write.csv(as.data.frame(ccl4_matrix), \n",
    "          file=\"03_outputs/03/ccl4_annotated_genes_expression_matrix_wald.csv\")\n",
    "write.csv(as.data.frame(taa_matrix), \n",
    "          file=\"03_outputs/03/taa_annotated_genes_expression_matrix_wald.csv\")"
   ]
  }
 ],
 "metadata": {
  "kernelspec": {
   "display_name": "2021_CDL_Regression_base",
   "language": "R",
   "name": "2021_cdl_regression_base"
  },
  "language_info": {
   "codemirror_mode": "r",
   "file_extension": ".r",
   "mimetype": "text/x-r-source",
   "name": "R",
   "pygments_lexer": "r",
   "version": "4.2.2"
  }
 },
 "nbformat": 4,
 "nbformat_minor": 5
}
