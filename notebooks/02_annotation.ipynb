{
 "cells": [
  {
   "cell_type": "code",
   "execution_count": 1,
   "id": "822f1013-e2ec-4f9d-b09a-503c1f49f42e",
   "metadata": {
    "vscode": {
     "languageId": "r"
    }
   },
   "outputs": [],
   "source": [
    "source(\"2021_CDL_regression/02_notebooks/00_setup.r\")"
   ]
  },
  {
   "cell_type": "code",
   "execution_count": 7,
   "id": "f84bccee-4d27-43c6-bf1f-7f4ba3aa6068",
   "metadata": {
    "vscode": {
     "languageId": "r"
    }
   },
   "outputs": [],
   "source": [
    "p_load(\"dplyr\", \"org.Mm.eg.db\", install = FALSE)"
   ]
  },
  {
   "cell_type": "code",
   "execution_count": 3,
   "id": "816b4cfc-a8eb-409e-88f2-ce5a0843cb02",
   "metadata": {
    "vscode": {
     "languageId": "r"
    }
   },
   "outputs": [],
   "source": [
    "metadata <- read.csv(\"2022_08_12_CDL_regression_sample_annotation.csv\", row.names = 1)"
   ]
  },
  {
   "cell_type": "code",
   "execution_count": 4,
   "id": "3fcb6ad0-e05b-4eb6-8cea-b6ad2f5c0662",
   "metadata": {
    "vscode": {
     "languageId": "r"
    }
   },
   "outputs": [],
   "source": [
    "mtx <- read.csv(file = \"03_outputs/01/count_matrix.csv\")"
   ]
  },
  {
   "cell_type": "markdown",
   "id": "99840b1c-237b-4225-8ec8-22e122a664d8",
   "metadata": {
    "tags": []
   },
   "source": [
    "## Annotation"
   ]
  },
  {
   "cell_type": "code",
   "execution_count": 5,
   "id": "754d7875-7c8e-4c4a-af2c-bbe674c1376a",
   "metadata": {
    "vscode": {
     "languageId": "r"
    }
   },
   "outputs": [],
   "source": [
    "count_matrix <- mtx"
   ]
  },
  {
   "cell_type": "code",
   "execution_count": 8,
   "id": "bea3f882-aa92-474d-9038-de4f2fa66705",
   "metadata": {
    "vscode": {
     "languageId": "r"
    }
   },
   "outputs": [
    {
     "name": "stderr",
     "output_type": "stream",
     "text": [
      "'select()' returned 1:1 mapping between keys and columns\n",
      "\n"
     ]
    }
   ],
   "source": [
    "mgis <- mapIds(org.Mm.eg.db, as.character(count_matrix$X), \"SYMBOL\",\"ENTREZID\")\n",
    "mgis <- as.data.frame(mgis) %>% tibble::rownames_to_column(\"X\")\n",
    "mgis$X <- as.numeric(mgis$X)"
   ]
  },
  {
   "cell_type": "code",
   "execution_count": 10,
   "id": "ef110838-6780-422f-8c74-d2aa8e73d495",
   "metadata": {
    "tags": [],
    "vscode": {
     "languageId": "r"
    }
   },
   "outputs": [],
   "source": [
    "count_matrix_annotated <- left_join(count_matrix, as.data.frame(mgis), by = \"X\") %>% tidyr::drop_na(mgis) %>% tibble::column_to_rownames(\"mgis\") %>% dplyr::select(-\"X\")"
   ]
  },
  {
   "cell_type": "code",
   "execution_count": 11,
   "id": "34b515e8-af7c-4e14-99e7-a92fd05ed7ec",
   "metadata": {
    "vscode": {
     "languageId": "r"
    }
   },
   "outputs": [
    {
     "data": {
      "text/html": [
       "<style>\n",
       ".list-inline {list-style: none; margin:0; padding: 0}\n",
       ".list-inline>li {display: inline-block}\n",
       ".list-inline>li:not(:last-child)::after {content: \"\\00b7\"; padding: 0 .5ex}\n",
       "</style>\n",
       "<ol class=list-inline><li>25860</li><li>48</li></ol>\n"
      ],
      "text/latex": [
       "\\begin{enumerate*}\n",
       "\\item 25860\n",
       "\\item 48\n",
       "\\end{enumerate*}\n"
      ],
      "text/markdown": [
       "1. 25860\n",
       "2. 48\n",
       "\n",
       "\n"
      ],
      "text/plain": [
       "[1] 25860    48"
      ]
     },
     "metadata": {},
     "output_type": "display_data"
    }
   ],
   "source": [
    "dim(count_matrix_annotated)"
   ]
  },
  {
   "cell_type": "code",
   "execution_count": 90,
   "id": "62da1801-70c7-4587-af67-e6d59cdc1fa3",
   "metadata": {
    "vscode": {
     "languageId": "r"
    }
   },
   "outputs": [],
   "source": [
    "write.csv(as.data.frame(count_matrix_annotated), \n",
    "          file=\"03_outputs/02/count_matrix_annotated.csv\", quotes = FALSE)"
   ]
  }
 ],
 "metadata": {
  "kernelspec": {
   "display_name": "r-rnaseq",
   "language": "R",
   "name": "r-rnaseq"
  },
  "language_info": {
   "codemirror_mode": "r",
   "file_extension": ".r",
   "mimetype": "text/x-r-source",
   "name": "R",
   "pygments_lexer": "r",
   "version": "4.3.2"
  }
 },
 "nbformat": 4,
 "nbformat_minor": 5
}
