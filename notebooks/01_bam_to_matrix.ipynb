{
 "cells": [
  {
   "cell_type": "code",
   "execution_count": null,
   "metadata": {
    "vscode": {
     "languageId": "r"
    }
   },
   "outputs": [],
   "source": [
    "source(\"2021_CDL_regression/02_notebooks/00_setup.r\")\n",
    "p_load(\"dplyr\", \"Rsubread\", install = FALSE)"
   ]
  },
  {
   "cell_type": "code",
   "execution_count": null,
   "metadata": {
    "vscode": {
     "languageId": "r"
    }
   },
   "outputs": [],
   "source": [
    "metadata <- read.csv(\"2022_08_12_CDL_regression_sample_annotation.csv\")\n",
    "raw_data_dir <- (\"01_raw_data/bam\")\n",
    "filenames <- file.path(raw_data_dir, paste0(metadata$Sample_id, \".bam\"))\n",
    "bamfiles <- BamFileList(filenames, yieldSize=2000000)\n",
    "seqinfo(bamfiles[2])"
   ]
  },
  {
   "cell_type": "code",
   "execution_count": null,
   "metadata": {
    "vscode": {
     "languageId": "r"
    }
   },
   "outputs": [],
   "source": [
    "fc <- featureCounts(filenames, annot.inbuilt=\"mm10\")\n",
    "write.csv(fc$counts, file = \"03_outputs/01/count_matrix.csv\")"
   ]
  }
 ],
 "metadata": {
  "language_info": {
   "name": "python"
  },
  "orig_nbformat": 4
 },
 "nbformat": 4,
 "nbformat_minor": 2
}
